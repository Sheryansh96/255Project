{
 "cells": [
  {
   "cell_type": "markdown",
   "id": "8caa7206",
   "metadata": {},
   "source": [
    "# Reading Data"
   ]
  },
  {
   "cell_type": "code",
   "execution_count": 1,
   "id": "9d40acf5",
   "metadata": {},
   "outputs": [],
   "source": [
    "import pandas as pd \n",
    "import numpy as np"
   ]
  },
  {
   "cell_type": "code",
   "execution_count": 2,
   "id": "5716553e",
   "metadata": {},
   "outputs": [
    {
     "name": "stdout",
     "output_type": "stream",
     "text": [
      "(438693, 303)\n"
     ]
    }
   ],
   "source": [
    "data = pd.read_csv('2022.csv')\n",
    "print(data.shape)"
   ]
  },
  {
   "cell_type": "code",
   "execution_count": 3,
   "id": "280aecca",
   "metadata": {},
   "outputs": [],
   "source": [
    "import warnings\n",
    "warnings.filterwarnings('ignore')\n",
    "from sklearn.model_selection import train_test_split\n",
    "from scipy import stats\n",
    "from sklearn.metrics import classification_report, confusion_matrix, f1_score, accuracy_score"
   ]
  },
  {
   "cell_type": "code",
   "execution_count": 4,
   "id": "837f6923",
   "metadata": {},
   "outputs": [
    {
     "name": "stdout",
     "output_type": "stream",
     "text": [
      "Types of data are- int64 and float64 \n",
      "\n",
      "More info about data-\n",
      "<class 'pandas.core.frame.DataFrame'>\n",
      "RangeIndex: 438693 entries, 0 to 438692\n",
      "Columns: 303 entries, _STATE to _VEGETE1\n",
      "dtypes: float64(298), int64(5)\n",
      "memory usage: 1014.1 MB\n",
      "None\n"
     ]
    }
   ],
   "source": [
    "datatypes=list(set(list(data.dtypes)))\n"
   ]
  },
  {
   "cell_type": "code",
   "execution_count": null,
   "id": "c32b07eb",
   "metadata": {},
   "outputs": [],
   "source": [
    "print(\"Types of data are-\",datatypes[0],\"and\",datatypes[1],\"\\n\")\n",
    "print(\"More info about data-\")\n",
    "print(data.info())"
   ]
  },
  {
   "cell_type": "markdown",
   "id": "6f88333f",
   "metadata": {},
   "source": [
    "# Pre-processing"
   ]
  },
  {
   "cell_type": "code",
   "execution_count": 5,
   "id": "b7cce320",
   "metadata": {},
   "outputs": [],
   "source": [
    "dataframe = data.copy()"
   ]
  },
  {
   "cell_type": "code",
   "execution_count": 6,
   "id": "eeef4ee1",
   "metadata": {},
   "outputs": [],
   "source": [
    "dataframe1=pd.DataFrame(dataframe)"
   ]
  },
  {
   "cell_type": "code",
   "execution_count": 7,
   "id": "a73c1295",
   "metadata": {},
   "outputs": [
    {
     "name": "stdout",
     "output_type": "stream",
     "text": [
      "Shape before removing unnecessary data- (438693, 303)\n",
      "Shape after removing unnecessary data- (438693, 216)\n"
     ]
    }
   ],
   "source": [
    "print(\"Shape before removing unnecessary data-\",dataframe1.shape)\n",
    "dataframe1 = dataframe1.drop(columns = ['FMONTH','DISPCODE','SEQNO','PVTRESD1','HHADULT', 'STATERE1', 'CELPHON1', 'COLGHOUS', 'CTELNUM1', 'CCLGHOUS', 'CTELENM1'], axis=1)\n",
    "\n",
    "dataframe1 = dataframe1.drop(columns = ['IMONTH', 'IDAY', 'IDATE', 'IYEAR'], axis=1)\n",
    "for cols in dataframe1.columns:\n",
    "    if cols.startswith(\"_\") and cols!=\"RACE\":\n",
    "        dataframe1.drop(cols,axis=1,inplace=True)\n",
    "print(\"Shape after removing unnecessary data-\",dataframe1.shape)"
   ]
  },
  {
   "cell_type": "code",
   "execution_count": 8,
   "id": "f962c532",
   "metadata": {},
   "outputs": [
    {
     "name": "stdout",
     "output_type": "stream",
     "text": [
      "Columns that have fixed value- Index(['SAFETIME', 'CELLFON5', 'CADULT1'], dtype='object')\n"
     ]
    },
    {
     "data": {
      "text/plain": [
       "(438693, 213)"
      ]
     },
     "execution_count": 8,
     "metadata": {},
     "output_type": "execute_result"
    }
   ],
   "source": [
    "columnswithsamevalue = dataframe1.std()[dataframe1.std() == 0].index\n",
    "print(\"Columns that have fixed value-\",columnswithsamevalue)\n",
    "dataframe1.drop(columnswithsamevalue, axis=1, inplace=True)\n",
    "dataframe1.shape"
   ]
  },
  {
   "cell_type": "code",
   "execution_count": 9,
   "id": "2176fac9",
   "metadata": {},
   "outputs": [],
   "source": [
    "dataframe1.drop(['HAVECFS'],axis=1,inplace=True)\n",
    "dataframe1.drop(['WORKCFS'],axis=1,inplace=True)\n",
    "dataframe1.drop(['TOLDCFS'],axis=1,inplace=True)"
   ]
  },
  {
   "cell_type": "code",
   "execution_count": 10,
   "id": "6d137d12",
   "metadata": {},
   "outputs": [
    {
     "data": {
      "text/plain": [
       "(438693, 210)"
      ]
     },
     "execution_count": 10,
     "metadata": {},
     "output_type": "execute_result"
    }
   ],
   "source": [
    "dataframe1.shape"
   ]
  },
  {
   "cell_type": "code",
   "execution_count": 11,
   "id": "8b21ecc9",
   "metadata": {},
   "outputs": [
    {
     "data": {
      "text/plain": [
       "(438693, 210)"
      ]
     },
     "execution_count": 11,
     "metadata": {},
     "output_type": "execute_result"
    }
   ],
   "source": [
    "dataframe2=dataframe1.fillna(-1)\n",
    "dataframe2.shape"
   ]
  },
  {
   "cell_type": "code",
   "execution_count": 12,
   "id": "a3bbddc6",
   "metadata": {},
   "outputs": [
    {
     "name": "stdout",
     "output_type": "stream",
     "text": [
      "(438693, 210)\n",
      "(438693, 209)\n"
     ]
    }
   ],
   "source": [
    "labeldata=dataframe2['DIABETE4']\n",
    "print(dataframe2.shape)\n",
    "dataframe2=dataframe2.drop(columns=['DIABETE4'])\n",
    "print(dataframe2.shape)"
   ]
  },
  {
   "cell_type": "code",
   "execution_count": 13,
   "id": "90735ccd",
   "metadata": {},
   "outputs": [],
   "source": [
    "corrmatrix = dataframe2.corr().abs()"
   ]
  },
  {
   "cell_type": "code",
   "execution_count": 14,
   "id": "02f14d0c",
   "metadata": {},
   "outputs": [
    {
     "name": "stdout",
     "output_type": "stream",
     "text": [
      "Columns to be dropped- 59\n",
      "Shape after dropping columns- (438693, 209)\n"
     ]
    }
   ],
   "source": [
    "high_corrcol = []\n",
    "for i in range(1,corrmatrix.shape[0]-1):\n",
    "    for j in range(0,i):\n",
    "        if corrmatrix.iloc[i][j] > 0.85:\n",
    "            high_corrcol.append(corrmatrix.columns[j])\n",
    "columns_to_drop=(list(set(high_corrcol)))\n",
    "print(\"Columns to be dropped-\",len(columns_to_drop))\n",
    "print(\"Shape after dropping columns-\",dataframe2.shape)"
   ]
  },
  {
   "cell_type": "code",
   "execution_count": 15,
   "id": "9bd42aca",
   "metadata": {},
   "outputs": [
    {
     "name": "stdout",
     "output_type": "stream",
     "text": [
      "(438693, 150)\n",
      "(438693, 151)\n"
     ]
    }
   ],
   "source": [
    "dataframe2.drop(columns_to_drop,axis = 1, inplace=True)\n",
    "print(dataframe2.shape)\n",
    "dataframe2.insert(len(dataframe2.columns), 'DIABETE4', labeldata)\n",
    "print(dataframe2.shape)"
   ]
  },
  {
   "cell_type": "code",
   "execution_count": 16,
   "id": "5041c41d",
   "metadata": {},
   "outputs": [],
   "source": [
    "prediction=dataframe2[['DIABETE4']]\n",
    "value1 = prediction[\"DIABETE4\"].value_counts()"
   ]
  },
  {
   "cell_type": "code",
   "execution_count": 17,
   "id": "49774468",
   "metadata": {},
   "outputs": [
    {
     "name": "stdout",
     "output_type": "stream",
     "text": [
      "Shape of DataFrame Before Removing Outliers (438693, 151)\n",
      "Shape of DataFrame After Removing Outliers (106429, 151)\n"
     ]
    }
   ],
   "source": [
    "print('Shape of DataFrame Before Removing Outliers', dataframe2.shape )\n",
    "dataframe2=dataframe2[(np.abs(stats.zscore(dataframe2)) < 3).all(axis=1)]\n",
    "print('Shape of DataFrame After Removing Outliers', dataframe2.shape )"
   ]
  },
  {
   "cell_type": "code",
   "execution_count": 18,
   "id": "7d179ca3",
   "metadata": {},
   "outputs": [],
   "source": [
    "predictionX = dataframe2.loc[:, dataframe2.columns != 'DIABETE4']\n",
    "predictionY = dataframe2['DIABETE4']\n",
    "x_train, x_test, y_train, y_test = train_test_split(predictionX, predictionY, test_size=0.2, train_size = 0.8,)"
   ]
  },
  {
   "cell_type": "markdown",
   "id": "85d89e43",
   "metadata": {},
   "source": [
    "# Classifying"
   ]
  },
  {
   "cell_type": "code",
   "execution_count": 19,
   "id": "18675c97",
   "metadata": {},
   "outputs": [],
   "source": [
    "from sklearn.linear_model import LogisticRegression"
   ]
  },
  {
   "cell_type": "code",
   "execution_count": 20,
   "id": "f7ec60a0",
   "metadata": {},
   "outputs": [
    {
     "name": "stdout",
     "output_type": "stream",
     "text": [
      "Logistic Regression-\n",
      "              precision    recall  f1-score   support\n",
      "\n",
      "         1.0       0.37      0.03      0.05      1684\n",
      "         2.0       0.00      0.00      0.00       204\n",
      "         3.0       0.89      1.00      0.94     18949\n",
      "         4.0       0.00      0.00      0.00       449\n",
      "\n",
      "    accuracy                           0.89     21286\n",
      "   macro avg       0.31      0.26      0.25     21286\n",
      "weighted avg       0.82      0.89      0.84     21286\n",
      "\n",
      "The accuracy of Logistic Regression is- 88.88941088039087 %\n",
      "F1 score for logistic regression is- 84.15750170693488 %\n"
     ]
    }
   ],
   "source": [
    "model = LogisticRegression(max_iter=500)\n",
    "model.fit(x_train, y_train)\n",
    "predicted=model.predict(x_test)\n",
    "conf = confusion_matrix(y_test, predicted)\n",
    "print(\"Logistic Regression-\")\n",
    "print(classification_report(y_test, predicted))\n",
    "print (\"The accuracy of Logistic Regression is-\", accuracy_score(y_test, predicted)*100, \"%\")\n",
    "print(\"F1 score for logistic regression is-\",f1_score(y_test, predicted,average='weighted')*100, \"%\")"
   ]
  },
  {
   "cell_type": "code",
   "execution_count": 21,
   "id": "b52ed4e2",
   "metadata": {},
   "outputs": [],
   "source": [
    "from xgboost import XGBClassifier"
   ]
  },
  {
   "cell_type": "code",
   "execution_count": 22,
   "id": "e726838a",
   "metadata": {},
   "outputs": [
    {
     "name": "stdout",
     "output_type": "stream",
     "text": [
      "XGBoost-\n",
      "              precision    recall  f1-score   support\n",
      "\n",
      "         1.0       1.00      1.00      1.00      1684\n",
      "         2.0       0.00      0.00      0.00       204\n",
      "         3.0       0.97      1.00      0.98     18949\n",
      "         4.0       0.00      0.00      0.00       449\n",
      "\n",
      "    accuracy                           0.97     21286\n",
      "   macro avg       0.49      0.50      0.50     21286\n",
      "weighted avg       0.94      0.97      0.95     21286\n",
      "\n",
      "The accuracy of XGBoost is- 96.93225594287324 %\n",
      "F1 score for XGBoost is- 95.42436556030223 %\n"
     ]
    }
   ],
   "source": [
    "xgbc = XGBClassifier(objective='binary:logistic')\n",
    "xgbc.fit(x_train,y_train-1)\n",
    "predicted = xgbc.predict(x_test)\n",
    "predicted = predicted + 1\n",
    "print(\"XGBoost-\")\n",
    "print(classification_report(y_test, predicted))\n",
    "print (\"The accuracy of XGBoost is-\", accuracy_score(y_test, predicted)*100, \"%\")\n",
    "print(\"F1 score for XGBoost is-\",f1_score(y_test, predicted,average='weighted')*100, \"%\")"
   ]
  },
  {
   "cell_type": "code",
   "execution_count": 23,
   "id": "9194d2f8",
   "metadata": {},
   "outputs": [],
   "source": [
    "from sklearn.ensemble import RandomForestRegressor"
   ]
  },
  {
   "cell_type": "code",
   "execution_count": 24,
   "id": "466f72a5",
   "metadata": {},
   "outputs": [
    {
     "name": "stdout",
     "output_type": "stream",
     "text": [
      "Random Forest-\n",
      "              precision    recall  f1-score   support\n",
      "\n",
      "         1.0       1.00      1.00      1.00      1684\n",
      "         2.0       0.00      0.00      0.00       204\n",
      "         3.0       0.97      1.00      0.98     18949\n",
      "         4.0       0.00      0.00      0.00       449\n",
      "\n",
      "    accuracy                           0.97     21286\n",
      "   macro avg       0.49      0.50      0.50     21286\n",
      "weighted avg       0.94      0.97      0.95     21286\n",
      "\n",
      "The accuracy of Random Forest is- 96.91346424880203 %\n",
      "F1 score for Random Forest is- 95.41497143436544 %\n"
     ]
    }
   ],
   "source": [
    "model = RandomForestRegressor(n_estimators = 100, random_state = 0)  \n",
    "model.fit(x_train, y_train)  \n",
    "predicted = model.predict(x_test)\n",
    "predicted =[round(i) for i in predicted]\n",
    "print(\"Random Forest-\")\n",
    "print(classification_report(y_test, predicted))\n",
    "print(\"The accuracy of Random Forest is-\", accuracy_score(y_test, predicted)*100, \"%\")\n",
    "print(\"F1 score for Random Forest is-\",f1_score(y_test, predicted,average='weighted')*100, \"%\")"
   ]
  },
  {
   "cell_type": "code",
   "execution_count": 25,
   "id": "f8ca0908",
   "metadata": {},
   "outputs": [],
   "source": [
    "from sklearn.tree import DecisionTreeClassifier"
   ]
  },
  {
   "cell_type": "code",
   "execution_count": 26,
   "id": "630ef151",
   "metadata": {},
   "outputs": [
    {
     "name": "stdout",
     "output_type": "stream",
     "text": [
      "Decision Tree-\n",
      "              precision    recall  f1-score   support\n",
      "\n",
      "         1.0       1.00      1.00      1.00      1684\n",
      "         2.0       0.00      0.00      0.00       204\n",
      "         3.0       0.97      1.00      0.98     18949\n",
      "         4.0       0.00      0.00      0.00       449\n",
      "\n",
      "    accuracy                           0.97     21286\n",
      "   macro avg       0.49      0.50      0.50     21286\n",
      "weighted avg       0.94      0.97      0.95     21286\n",
      "\n",
      "Accuracy for Decision Tree is- 96.93225594287324 %\n",
      "F1 score for Decision Tree is- 95.42436556030223 %\n"
     ]
    }
   ],
   "source": [
    "model = DecisionTreeClassifier(criterion = \"gini\",random_state = 100,max_depth=3, min_samples_leaf=5)\n",
    "model.fit(x_train, y_train)\n",
    "predicted = model.predict(x_test)\n",
    "print(\"Decision Tree-\")\n",
    "print(classification_report(y_test, predicted))\n",
    "print (\"Accuracy for Decision Tree is-\",accuracy_score(y_test,predicted)*100,\"%\")\n",
    "print(\"F1 score for Decision Tree is-\",f1_score(y_test, predicted,average='weighted')*100, \"%\") "
   ]
  },
  {
   "cell_type": "markdown",
   "id": "5fc041a1",
   "metadata": {},
   "source": [
    "# Visualization"
   ]
  },
  {
   "cell_type": "code",
   "execution_count": 27,
   "id": "4f3a85ab",
   "metadata": {},
   "outputs": [],
   "source": [
    "import matplotlib.pyplot as plt"
   ]
  },
  {
   "cell_type": "code",
   "execution_count": 28,
   "id": "efb6a179",
   "metadata": {},
   "outputs": [],
   "source": [
    "data1=data.copy()\n",
    "dataframe3=pd.DataFrame(data1)"
   ]
  },
  {
   "cell_type": "code",
   "execution_count": 29,
   "id": "efed0991",
   "metadata": {},
   "outputs": [],
   "source": [
    "da1 = dataframe3.loc[dataframe3['DIABAGE3'].isin([1,2,3,4,5,6,7,8,9,10])]\n",
    "da2 = dataframe3.loc[dataframe3['DIABAGE3'].isin([11,12,13,14,15,16,17,18,19,20])]\n",
    "da3 = dataframe3.loc[dataframe3['DIABAGE3'].isin([21,22,23,24,25,26,27,28,29,30])]\n",
    "da4 = dataframe3.loc[dataframe3['DIABAGE3'].isin([31,32,33,34,35,36,37,38,39,40])]\n",
    "da5 = dataframe3.loc[dataframe3['DIABAGE3'].isin([41,42,43,44,45,46,47,48,49,50])]\n",
    "da6 = dataframe3.loc[dataframe3['DIABAGE3'].isin([51,52,53,54,55,56,57,58,59,60])]\n",
    "da7 = dataframe3.loc[dataframe3['DIABAGE3'].isin([61,62,63,64,65,66,67,68,69,70])]\n",
    "da8 = dataframe3.loc[dataframe3['DIABAGE3'].isin([71,72,73,74,75,76,77,78,79,80])]\n",
    "da9 = dataframe3.loc[dataframe3['DIABAGE3'].isin([81,82,83,84,85,86,87,88,89,90])]\n",
    "da10 = dataframe3.loc[dataframe3['DIABAGE3'].isin([91,92,93,94,95,96,97,98])]"
   ]
  },
  {
   "cell_type": "code",
   "execution_count": 30,
   "id": "7568a997",
   "metadata": {},
   "outputs": [
    {
     "data": {
      "image/png": "[encoded data removed]",
      "text/plain": [
       "<Figure size 432x288 with 1 Axes>"
      ]
     },
     "metadata": {
      "needs_background": "light"
     },
     "output_type": "display_data"
    }
   ],
   "source": [
    "fig = plt.figure()\n",
    "ax = fig.add_axes([0,0,1,1])\n",
    "counts=[da1.shape[0],da2.shape[0],da3.shape[0],da4.shape[0],da5.shape[0],da6.shape[0],da7.shape[0],da8.shape[0],da9.shape[0]]\n",
    "ages = ['0-10','10-20','20-30','30-40','40-50', '50-60','60-70','70-80','80-90']\n",
    "p=ax.bar(ages,counts)\n",
    "ax.bar_label(p)\n",
    "plt.xlabel('Age')\n",
    "plt.ylabel('Count')\n",
    "plt.title('Diabetic patients across age')\n",
    "plt.show()"
   ]
  },
  {
   "cell_type": "code",
   "execution_count": 31,
   "id": "a97aa366",
   "metadata": {},
   "outputs": [],
   "source": [
    "data1['PREDIAB1'].replace(2,1,inplace=True)\n",
    "data1['PREDIAB1'].replace(7,np.nan,inplace=True)\n",
    "data1['PREDIAB1'].replace(9,np.nan,inplace=True)\n",
    "data1['DIABETE4'].replace(2,1,inplace=True)\n",
    "data1['DIABETE4'].replace(4,2,inplace=True)\n",
    "data1['DIABETE4'].replace(3,2,inplace=True)\n",
    "data1['DIABETE4'].replace(7,np.nan,inplace=True)\n",
    "data1['DIABETE4'].replace(9,np.nan,inplace=True)"
   ]
  },
  {
   "cell_type": "code",
   "execution_count": 32,
   "id": "3aa33758",
   "metadata": {},
   "outputs": [
    {
     "data": {
      "text/plain": [
       "<Figure size 432x288 with 0 Axes>"
      ]
     },
     "metadata": {},
     "output_type": "display_data"
    }
   ],
   "source": [
    "plt.figure()\n",
    "dataframe4 = data1.groupby(['DIABETE4','PREDIAB1']).size()\n",
    "previousdiabetic=dataframe4.unstack()\n",
    "previousdiabpercent= previousdiabetic.div(previousdiabetic.sum())"
   ]
  },
  {
   "cell_type": "code",
   "execution_count": 33,
   "id": "6ed628ca",
   "metadata": {},
   "outputs": [
    {
     "data": {
      "image/png": "[encoded data removed]",
      "text/plain": [
       "<Figure size 432x288 with 1 Axes>"
      ]
     },
     "metadata": {
      "needs_background": "light"
     },
     "output_type": "display_data"
    }
   ],
   "source": [
    "predictionp=previousdiabpercent.transpose()\n",
    "predictionp\n",
    "ax2 =predictionp.plot(kind='bar',stacked=True).legend([\"Diabetes\", \"No diabetes\"], bbox_to_anchor=(1,1), ncol=1)\n",
    "positions = (0, 1)\n",
    "labels = (\"Previously Diabetic\", \"Not Previously Diabteic\")\n",
    "plt.xticks(positions, labels,rotation ='horizontal')\n",
    "plt.ylabel('Count percentage')\n",
    "plt.xlabel('')\n",
    "plt.title(\"Diabetes for prediabetes\")\n",
    "plt.show()"
   ]
  }
 ],
 "metadata": {
  "kernelspec": {
   "display_name": "Python 3 (ipykernel)",
   "language": "python",
   "name": "python3"
  },
  "language_info": {
   "codemirror_mode": {
    "name": "ipython",
    "version": 3
   },
   "file_extension": ".py",
   "mimetype": "text/x-python",
   "name": "python",
   "nbconvert_exporter": "python",
   "pygments_lexer": "ipython3",
   "version": "3.9.12"
  },
  "vscode": {
   "interpreter": {
    "hash": "31f2aee4e71d21fbe5cf8b01ff0e069b9275f58929596ceb00d14d90e3e16cd6"
   }
  }
 },
 "nbformat": 4,
 "nbformat_minor": 5
}
