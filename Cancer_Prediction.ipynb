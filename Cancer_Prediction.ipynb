{
 "cells": [
  {
   "cell_type": "code",
   "execution_count": 1,
   "id": "dcf90803",
   "metadata": {
    "id": "dcf90803"
   },
   "outputs": [],
   "source": [
    "import pandas as pd\n",
    "from sklearn.preprocessing import StandardScaler\n",
    "from sklearn.model_selection import train_test_split\n",
    "from sklearn.model_selection import GridSearchCV, RandomizedSearchCV\n",
    "from sklearn.metrics import classification_report, confusion_matrix, plot_confusion_matrix\n",
    "import matplotlib.pyplot as plt\n",
    "from sklearn.ensemble import RandomForestClassifier\n",
    "from sklearn.linear_model import LogisticRegression\n",
    "import numpy as np\n",
    "from sklearn.preprocessing import StandardScaler"
   ]
  },
  {
   "cell_type": "code",
   "execution_count": 2,
   "id": "69e91d50",
   "metadata": {
    "id": "69e91d50"
   },
   "outputs": [],
   "source": [
    "data = pd.read_csv (r'./data/2022.csv')"
   ]
  },
  {
   "cell_type": "code",
   "execution_count": 3,
   "id": "672b87cb",
   "metadata": {
    "colab": {
     "base_uri": "https://localhost:8080/",
     "height": 299
    },
    "id": "672b87cb",
    "outputId": "e8026a79-80d6-446d-9c70-1cabc7f23e04"
   },
   "outputs": [
    {
     "data": {
      "text/html": [
       "<div>\n",
       "<style scoped>\n",
       "    .dataframe tbody tr th:only-of-type {\n",
       "        vertical-align: middle;\n",
       "    }\n",
       "\n",
       "    .dataframe tbody tr th {\n",
       "        vertical-align: top;\n",
       "    }\n",
       "\n",
       "    .dataframe thead th {\n",
       "        text-align: right;\n",
       "    }\n",
       "</style>\n",
       "<table border=\"1\" class=\"dataframe\">\n",
       "  <thead>\n",
       "    <tr style=\"text-align: right;\">\n",
       "      <th></th>\n",
       "      <th>_STATE</th>\n",
       "      <th>FMONTH</th>\n",
       "      <th>IDATE</th>\n",
       "      <th>IMONTH</th>\n",
       "      <th>IDAY</th>\n",
       "      <th>IYEAR</th>\n",
       "      <th>DISPCODE</th>\n",
       "      <th>SEQNO</th>\n",
       "      <th>_PSU</th>\n",
       "      <th>CTELENM1</th>\n",
       "      <th>...</th>\n",
       "      <th>_FRTRES1</th>\n",
       "      <th>_VEGRES1</th>\n",
       "      <th>_FRUTSU1</th>\n",
       "      <th>_VEGESU1</th>\n",
       "      <th>_FRTLT1A</th>\n",
       "      <th>_VEGLT1A</th>\n",
       "      <th>_FRT16A</th>\n",
       "      <th>_VEG23A</th>\n",
       "      <th>_FRUITE1</th>\n",
       "      <th>_VEGETE1</th>\n",
       "    </tr>\n",
       "  </thead>\n",
       "  <tbody>\n",
       "    <tr>\n",
       "      <th>0</th>\n",
       "      <td>1.0</td>\n",
       "      <td>1.0</td>\n",
       "      <td>1192021</td>\n",
       "      <td>1</td>\n",
       "      <td>19</td>\n",
       "      <td>2021</td>\n",
       "      <td>1100.0</td>\n",
       "      <td>2021000001</td>\n",
       "      <td>2.021000e+09</td>\n",
       "      <td>1.0</td>\n",
       "      <td>...</td>\n",
       "      <td>1.0</td>\n",
       "      <td>1.0</td>\n",
       "      <td>100.0</td>\n",
       "      <td>214.0</td>\n",
       "      <td>1.0</td>\n",
       "      <td>1.0</td>\n",
       "      <td>1.0</td>\n",
       "      <td>1.0</td>\n",
       "      <td>0.0</td>\n",
       "      <td>0.0</td>\n",
       "    </tr>\n",
       "    <tr>\n",
       "      <th>1</th>\n",
       "      <td>1.0</td>\n",
       "      <td>1.0</td>\n",
       "      <td>1212021</td>\n",
       "      <td>1</td>\n",
       "      <td>21</td>\n",
       "      <td>2021</td>\n",
       "      <td>1100.0</td>\n",
       "      <td>2021000002</td>\n",
       "      <td>2.021000e+09</td>\n",
       "      <td>1.0</td>\n",
       "      <td>...</td>\n",
       "      <td>1.0</td>\n",
       "      <td>1.0</td>\n",
       "      <td>100.0</td>\n",
       "      <td>128.0</td>\n",
       "      <td>1.0</td>\n",
       "      <td>1.0</td>\n",
       "      <td>1.0</td>\n",
       "      <td>1.0</td>\n",
       "      <td>0.0</td>\n",
       "      <td>0.0</td>\n",
       "    </tr>\n",
       "    <tr>\n",
       "      <th>2</th>\n",
       "      <td>1.0</td>\n",
       "      <td>1.0</td>\n",
       "      <td>1212021</td>\n",
       "      <td>1</td>\n",
       "      <td>21</td>\n",
       "      <td>2021</td>\n",
       "      <td>1100.0</td>\n",
       "      <td>2021000003</td>\n",
       "      <td>2.021000e+09</td>\n",
       "      <td>1.0</td>\n",
       "      <td>...</td>\n",
       "      <td>1.0</td>\n",
       "      <td>1.0</td>\n",
       "      <td>100.0</td>\n",
       "      <td>71.0</td>\n",
       "      <td>1.0</td>\n",
       "      <td>2.0</td>\n",
       "      <td>1.0</td>\n",
       "      <td>1.0</td>\n",
       "      <td>0.0</td>\n",
       "      <td>0.0</td>\n",
       "    </tr>\n",
       "    <tr>\n",
       "      <th>3</th>\n",
       "      <td>1.0</td>\n",
       "      <td>1.0</td>\n",
       "      <td>1172021</td>\n",
       "      <td>1</td>\n",
       "      <td>17</td>\n",
       "      <td>2021</td>\n",
       "      <td>1100.0</td>\n",
       "      <td>2021000004</td>\n",
       "      <td>2.021000e+09</td>\n",
       "      <td>1.0</td>\n",
       "      <td>...</td>\n",
       "      <td>1.0</td>\n",
       "      <td>1.0</td>\n",
       "      <td>114.0</td>\n",
       "      <td>165.0</td>\n",
       "      <td>1.0</td>\n",
       "      <td>1.0</td>\n",
       "      <td>1.0</td>\n",
       "      <td>1.0</td>\n",
       "      <td>0.0</td>\n",
       "      <td>0.0</td>\n",
       "    </tr>\n",
       "    <tr>\n",
       "      <th>4</th>\n",
       "      <td>1.0</td>\n",
       "      <td>1.0</td>\n",
       "      <td>1152021</td>\n",
       "      <td>1</td>\n",
       "      <td>15</td>\n",
       "      <td>2021</td>\n",
       "      <td>1100.0</td>\n",
       "      <td>2021000005</td>\n",
       "      <td>2.021000e+09</td>\n",
       "      <td>1.0</td>\n",
       "      <td>...</td>\n",
       "      <td>1.0</td>\n",
       "      <td>1.0</td>\n",
       "      <td>100.0</td>\n",
       "      <td>258.0</td>\n",
       "      <td>1.0</td>\n",
       "      <td>1.0</td>\n",
       "      <td>1.0</td>\n",
       "      <td>1.0</td>\n",
       "      <td>0.0</td>\n",
       "      <td>0.0</td>\n",
       "    </tr>\n",
       "  </tbody>\n",
       "</table>\n",
       "<p>5 rows × 303 columns</p>\n",
       "</div>"
      ],
      "text/plain": [
       "   _STATE  FMONTH    IDATE  IMONTH  IDAY  IYEAR  DISPCODE       SEQNO  \\\n",
       "0     1.0     1.0  1192021       1    19   2021    1100.0  2021000001   \n",
       "1     1.0     1.0  1212021       1    21   2021    1100.0  2021000002   \n",
       "2     1.0     1.0  1212021       1    21   2021    1100.0  2021000003   \n",
       "3     1.0     1.0  1172021       1    17   2021    1100.0  2021000004   \n",
       "4     1.0     1.0  1152021       1    15   2021    1100.0  2021000005   \n",
       "\n",
       "           _PSU  CTELENM1  ...  _FRTRES1  _VEGRES1  _FRUTSU1  _VEGESU1  \\\n",
       "0  2.021000e+09       1.0  ...       1.0       1.0     100.0     214.0   \n",
       "1  2.021000e+09       1.0  ...       1.0       1.0     100.0     128.0   \n",
       "2  2.021000e+09       1.0  ...       1.0       1.0     100.0      71.0   \n",
       "3  2.021000e+09       1.0  ...       1.0       1.0     114.0     165.0   \n",
       "4  2.021000e+09       1.0  ...       1.0       1.0     100.0     258.0   \n",
       "\n",
       "   _FRTLT1A  _VEGLT1A  _FRT16A  _VEG23A  _FRUITE1  _VEGETE1  \n",
       "0       1.0       1.0      1.0      1.0       0.0       0.0  \n",
       "1       1.0       1.0      1.0      1.0       0.0       0.0  \n",
       "2       1.0       2.0      1.0      1.0       0.0       0.0  \n",
       "3       1.0       1.0      1.0      1.0       0.0       0.0  \n",
       "4       1.0       1.0      1.0      1.0       0.0       0.0  \n",
       "\n",
       "[5 rows x 303 columns]"
      ]
     },
     "execution_count": 3,
     "metadata": {},
     "output_type": "execute_result"
    }
   ],
   "source": [
    "data.head()"
   ]
  },
  {
   "cell_type": "code",
   "execution_count": 4,
   "id": "16b9c2bd",
   "metadata": {
    "colab": {
     "base_uri": "https://localhost:8080/"
    },
    "id": "16b9c2bd",
    "outputId": "39717b47-9c95-4217-f1aa-955d3ce54e20"
   },
   "outputs": [
    {
     "data": {
      "text/plain": [
       "(438693, 303)"
      ]
     },
     "execution_count": 4,
     "metadata": {},
     "output_type": "execute_result"
    }
   ],
   "source": [
    "data.shape"
   ]
  },
  {
   "cell_type": "code",
   "execution_count": 5,
   "id": "f7fbf5f3",
   "metadata": {},
   "outputs": [
    {
     "data": {
      "text/html": [
       "<div>\n",
       "<style scoped>\n",
       "    .dataframe tbody tr th:only-of-type {\n",
       "        vertical-align: middle;\n",
       "    }\n",
       "\n",
       "    .dataframe tbody tr th {\n",
       "        vertical-align: top;\n",
       "    }\n",
       "\n",
       "    .dataframe thead th {\n",
       "        text-align: right;\n",
       "    }\n",
       "</style>\n",
       "<table border=\"1\" class=\"dataframe\">\n",
       "  <thead>\n",
       "    <tr style=\"text-align: right;\">\n",
       "      <th></th>\n",
       "      <th>_STATE</th>\n",
       "      <th>FMONTH</th>\n",
       "      <th>IDATE</th>\n",
       "      <th>IMONTH</th>\n",
       "      <th>IDAY</th>\n",
       "      <th>IYEAR</th>\n",
       "      <th>DISPCODE</th>\n",
       "      <th>SEQNO</th>\n",
       "      <th>_PSU</th>\n",
       "      <th>CTELENM1</th>\n",
       "      <th>...</th>\n",
       "      <th>_FRTRES1</th>\n",
       "      <th>_VEGRES1</th>\n",
       "      <th>_FRUTSU1</th>\n",
       "      <th>_VEGESU1</th>\n",
       "      <th>_FRTLT1A</th>\n",
       "      <th>_VEGLT1A</th>\n",
       "      <th>_FRT16A</th>\n",
       "      <th>_VEG23A</th>\n",
       "      <th>_FRUITE1</th>\n",
       "      <th>_VEGETE1</th>\n",
       "    </tr>\n",
       "  </thead>\n",
       "  <tbody>\n",
       "    <tr>\n",
       "      <th>count</th>\n",
       "      <td>438693.000000</td>\n",
       "      <td>438693.000000</td>\n",
       "      <td>4.386930e+05</td>\n",
       "      <td>438693.000000</td>\n",
       "      <td>438693.000000</td>\n",
       "      <td>438693.000000</td>\n",
       "      <td>438693.000000</td>\n",
       "      <td>4.386930e+05</td>\n",
       "      <td>4.386930e+05</td>\n",
       "      <td>117786.000000</td>\n",
       "      <td>...</td>\n",
       "      <td>438693.000000</td>\n",
       "      <td>438693.000000</td>\n",
       "      <td>387606.000000</td>\n",
       "      <td>378566.000000</td>\n",
       "      <td>438693.000000</td>\n",
       "      <td>438693.000000</td>\n",
       "      <td>438693.000000</td>\n",
       "      <td>438693.000000</td>\n",
       "      <td>438693.000000</td>\n",
       "      <td>438693.000000</td>\n",
       "    </tr>\n",
       "    <tr>\n",
       "      <th>mean</th>\n",
       "      <td>30.742155</td>\n",
       "      <td>6.405680</td>\n",
       "      <td>6.688758e+06</td>\n",
       "      <td>6.535354</td>\n",
       "      <td>15.138261</td>\n",
       "      <td>2021.053586</td>\n",
       "      <td>1118.189030</td>\n",
       "      <td>2.021006e+09</td>\n",
       "      <td>2.021006e+09</td>\n",
       "      <td>1.000017</td>\n",
       "      <td>...</td>\n",
       "      <td>0.883547</td>\n",
       "      <td>0.862941</td>\n",
       "      <td>178.342954</td>\n",
       "      <td>271.544175</td>\n",
       "      <td>2.270561</td>\n",
       "      <td>2.257184</td>\n",
       "      <td>0.994967</td>\n",
       "      <td>0.992699</td>\n",
       "      <td>0.126519</td>\n",
       "      <td>0.151662</td>\n",
       "    </tr>\n",
       "    <tr>\n",
       "      <th>std</th>\n",
       "      <td>15.334888</td>\n",
       "      <td>3.421731</td>\n",
       "      <td>3.444137e+06</td>\n",
       "      <td>3.443480</td>\n",
       "      <td>8.614820</td>\n",
       "      <td>0.225200</td>\n",
       "      <td>38.575453</td>\n",
       "      <td>6.383751e+03</td>\n",
       "      <td>6.383751e+03</td>\n",
       "      <td>0.004121</td>\n",
       "      <td>...</td>\n",
       "      <td>0.320767</td>\n",
       "      <td>0.343910</td>\n",
       "      <td>691.293103</td>\n",
       "      <td>1036.227213</td>\n",
       "      <td>2.485479</td>\n",
       "      <td>2.711460</td>\n",
       "      <td>0.070766</td>\n",
       "      <td>0.085135</td>\n",
       "      <td>0.347244</td>\n",
       "      <td>0.378501</td>\n",
       "    </tr>\n",
       "    <tr>\n",
       "      <th>min</th>\n",
       "      <td>1.000000</td>\n",
       "      <td>1.000000</td>\n",
       "      <td>1.012022e+06</td>\n",
       "      <td>1.000000</td>\n",
       "      <td>1.000000</td>\n",
       "      <td>2021.000000</td>\n",
       "      <td>1100.000000</td>\n",
       "      <td>2.021000e+09</td>\n",
       "      <td>2.021000e+09</td>\n",
       "      <td>1.000000</td>\n",
       "      <td>...</td>\n",
       "      <td>0.000000</td>\n",
       "      <td>0.000000</td>\n",
       "      <td>0.000000</td>\n",
       "      <td>0.000000</td>\n",
       "      <td>1.000000</td>\n",
       "      <td>1.000000</td>\n",
       "      <td>0.000000</td>\n",
       "      <td>0.000000</td>\n",
       "      <td>0.000000</td>\n",
       "      <td>0.000000</td>\n",
       "    </tr>\n",
       "    <tr>\n",
       "      <th>25%</th>\n",
       "      <td>20.000000</td>\n",
       "      <td>3.000000</td>\n",
       "      <td>3.302021e+06</td>\n",
       "      <td>3.000000</td>\n",
       "      <td>8.000000</td>\n",
       "      <td>2021.000000</td>\n",
       "      <td>1100.000000</td>\n",
       "      <td>2.021002e+09</td>\n",
       "      <td>2.021002e+09</td>\n",
       "      <td>1.000000</td>\n",
       "      <td>...</td>\n",
       "      <td>1.000000</td>\n",
       "      <td>1.000000</td>\n",
       "      <td>57.000000</td>\n",
       "      <td>114.000000</td>\n",
       "      <td>1.000000</td>\n",
       "      <td>1.000000</td>\n",
       "      <td>1.000000</td>\n",
       "      <td>1.000000</td>\n",
       "      <td>0.000000</td>\n",
       "      <td>0.000000</td>\n",
       "    </tr>\n",
       "    <tr>\n",
       "      <th>50%</th>\n",
       "      <td>31.000000</td>\n",
       "      <td>6.000000</td>\n",
       "      <td>7.032021e+06</td>\n",
       "      <td>7.000000</td>\n",
       "      <td>15.000000</td>\n",
       "      <td>2021.000000</td>\n",
       "      <td>1100.000000</td>\n",
       "      <td>2.021004e+09</td>\n",
       "      <td>2.021004e+09</td>\n",
       "      <td>1.000000</td>\n",
       "      <td>...</td>\n",
       "      <td>1.000000</td>\n",
       "      <td>1.000000</td>\n",
       "      <td>100.000000</td>\n",
       "      <td>167.000000</td>\n",
       "      <td>1.000000</td>\n",
       "      <td>1.000000</td>\n",
       "      <td>1.000000</td>\n",
       "      <td>1.000000</td>\n",
       "      <td>0.000000</td>\n",
       "      <td>0.000000</td>\n",
       "    </tr>\n",
       "    <tr>\n",
       "      <th>75%</th>\n",
       "      <td>41.000000</td>\n",
       "      <td>9.000000</td>\n",
       "      <td>1.003202e+07</td>\n",
       "      <td>10.000000</td>\n",
       "      <td>22.000000</td>\n",
       "      <td>2021.000000</td>\n",
       "      <td>1100.000000</td>\n",
       "      <td>2.021008e+09</td>\n",
       "      <td>2.021008e+09</td>\n",
       "      <td>1.000000</td>\n",
       "      <td>...</td>\n",
       "      <td>1.000000</td>\n",
       "      <td>1.000000</td>\n",
       "      <td>200.000000</td>\n",
       "      <td>229.000000</td>\n",
       "      <td>2.000000</td>\n",
       "      <td>2.000000</td>\n",
       "      <td>1.000000</td>\n",
       "      <td>1.000000</td>\n",
       "      <td>0.000000</td>\n",
       "      <td>0.000000</td>\n",
       "    </tr>\n",
       "    <tr>\n",
       "      <th>max</th>\n",
       "      <td>78.000000</td>\n",
       "      <td>12.000000</td>\n",
       "      <td>1.231202e+07</td>\n",
       "      <td>12.000000</td>\n",
       "      <td>31.000000</td>\n",
       "      <td>2022.000000</td>\n",
       "      <td>1200.000000</td>\n",
       "      <td>2.021039e+09</td>\n",
       "      <td>2.021039e+09</td>\n",
       "      <td>2.000000</td>\n",
       "      <td>...</td>\n",
       "      <td>1.000000</td>\n",
       "      <td>1.000000</td>\n",
       "      <td>19800.000000</td>\n",
       "      <td>39600.000000</td>\n",
       "      <td>9.000000</td>\n",
       "      <td>9.000000</td>\n",
       "      <td>1.000000</td>\n",
       "      <td>1.000000</td>\n",
       "      <td>2.000000</td>\n",
       "      <td>2.000000</td>\n",
       "    </tr>\n",
       "  </tbody>\n",
       "</table>\n",
       "<p>8 rows × 303 columns</p>\n",
       "</div>"
      ],
      "text/plain": [
       "              _STATE         FMONTH         IDATE         IMONTH  \\\n",
       "count  438693.000000  438693.000000  4.386930e+05  438693.000000   \n",
       "mean       30.742155       6.405680  6.688758e+06       6.535354   \n",
       "std        15.334888       3.421731  3.444137e+06       3.443480   \n",
       "min         1.000000       1.000000  1.012022e+06       1.000000   \n",
       "25%        20.000000       3.000000  3.302021e+06       3.000000   \n",
       "50%        31.000000       6.000000  7.032021e+06       7.000000   \n",
       "75%        41.000000       9.000000  1.003202e+07      10.000000   \n",
       "max        78.000000      12.000000  1.231202e+07      12.000000   \n",
       "\n",
       "                IDAY          IYEAR       DISPCODE         SEQNO  \\\n",
       "count  438693.000000  438693.000000  438693.000000  4.386930e+05   \n",
       "mean       15.138261    2021.053586    1118.189030  2.021006e+09   \n",
       "std         8.614820       0.225200      38.575453  6.383751e+03   \n",
       "min         1.000000    2021.000000    1100.000000  2.021000e+09   \n",
       "25%         8.000000    2021.000000    1100.000000  2.021002e+09   \n",
       "50%        15.000000    2021.000000    1100.000000  2.021004e+09   \n",
       "75%        22.000000    2021.000000    1100.000000  2.021008e+09   \n",
       "max        31.000000    2022.000000    1200.000000  2.021039e+09   \n",
       "\n",
       "               _PSU       CTELENM1  ...       _FRTRES1       _VEGRES1  \\\n",
       "count  4.386930e+05  117786.000000  ...  438693.000000  438693.000000   \n",
       "mean   2.021006e+09       1.000017  ...       0.883547       0.862941   \n",
       "std    6.383751e+03       0.004121  ...       0.320767       0.343910   \n",
       "min    2.021000e+09       1.000000  ...       0.000000       0.000000   \n",
       "25%    2.021002e+09       1.000000  ...       1.000000       1.000000   \n",
       "50%    2.021004e+09       1.000000  ...       1.000000       1.000000   \n",
       "75%    2.021008e+09       1.000000  ...       1.000000       1.000000   \n",
       "max    2.021039e+09       2.000000  ...       1.000000       1.000000   \n",
       "\n",
       "            _FRUTSU1       _VEGESU1       _FRTLT1A       _VEGLT1A  \\\n",
       "count  387606.000000  378566.000000  438693.000000  438693.000000   \n",
       "mean      178.342954     271.544175       2.270561       2.257184   \n",
       "std       691.293103    1036.227213       2.485479       2.711460   \n",
       "min         0.000000       0.000000       1.000000       1.000000   \n",
       "25%        57.000000     114.000000       1.000000       1.000000   \n",
       "50%       100.000000     167.000000       1.000000       1.000000   \n",
       "75%       200.000000     229.000000       2.000000       2.000000   \n",
       "max     19800.000000   39600.000000       9.000000       9.000000   \n",
       "\n",
       "             _FRT16A        _VEG23A       _FRUITE1       _VEGETE1  \n",
       "count  438693.000000  438693.000000  438693.000000  438693.000000  \n",
       "mean        0.994967       0.992699       0.126519       0.151662  \n",
       "std         0.070766       0.085135       0.347244       0.378501  \n",
       "min         0.000000       0.000000       0.000000       0.000000  \n",
       "25%         1.000000       1.000000       0.000000       0.000000  \n",
       "50%         1.000000       1.000000       0.000000       0.000000  \n",
       "75%         1.000000       1.000000       0.000000       0.000000  \n",
       "max         1.000000       1.000000       2.000000       2.000000  \n",
       "\n",
       "[8 rows x 303 columns]"
      ]
     },
     "execution_count": 5,
     "metadata": {},
     "output_type": "execute_result"
    }
   ],
   "source": [
    "data.describe()"
   ]
  },
  {
   "cell_type": "markdown",
   "id": "b35876cc",
   "metadata": {
    "id": "b35876cc"
   },
   "source": [
    "## Data Preprocessing"
   ]
  },
  {
   "cell_type": "code",
   "execution_count": 6,
   "id": "552d27ba",
   "metadata": {
    "id": "552d27ba"
   },
   "outputs": [],
   "source": [
    "# we create a backup to the data\n",
    "df = data.copy()"
   ]
  },
  {
   "cell_type": "code",
   "execution_count": 7,
   "id": "a831aacb",
   "metadata": {
    "id": "a831aacb"
   },
   "outputs": [],
   "source": [
    "x = df.isna().sum()"
   ]
  },
  {
   "cell_type": "code",
   "execution_count": 8,
   "id": "697c2b1a",
   "metadata": {
    "colab": {
     "base_uri": "https://localhost:8080/"
    },
    "id": "697c2b1a",
    "outputId": "40d1de97-ca75-462d-e91f-4eb0b674a055"
   },
   "outputs": [
    {
     "data": {
      "text/plain": [
       "_STATE      0\n",
       "FMONTH      0\n",
       "IDATE       0\n",
       "IMONTH      0\n",
       "IDAY        0\n",
       "           ..\n",
       "_VEGLT1A    0\n",
       "_FRT16A     0\n",
       "_VEG23A     0\n",
       "_FRUITE1    0\n",
       "_VEGETE1    0\n",
       "Length: 303, dtype: int64"
      ]
     },
     "execution_count": 8,
     "metadata": {},
     "output_type": "execute_result"
    }
   ],
   "source": [
    "x"
   ]
  },
  {
   "cell_type": "code",
   "execution_count": 9,
   "id": "e629ad30",
   "metadata": {
    "colab": {
     "base_uri": "https://localhost:8080/"
    },
    "id": "e629ad30",
    "outputId": "fd797a3a-af71-4a39-8440-5d4f12afb103"
   },
   "outputs": [
    {
     "name": "stdout",
     "output_type": "stream",
     "text": [
      "91\n"
     ]
    }
   ],
   "source": [
    "count = 0\n",
    "for i in x:\n",
    "    z = (i/438693)*100\n",
    "    if z > 90:\n",
    "        count+=1\n",
    "print(count)"
   ]
  },
  {
   "cell_type": "code",
   "execution_count": 10,
   "id": "6121474e",
   "metadata": {
    "id": "6121474e"
   },
   "outputs": [],
   "source": [
    "# As we see that 91 columns are having empty values greater than 50% so its better to drop them\n",
    "df = df.loc[:, df.isna().sum() < 0.90*df.shape[0]]"
   ]
  },
  {
   "cell_type": "code",
   "execution_count": 11,
   "id": "18d8f6ef",
   "metadata": {
    "colab": {
     "base_uri": "https://localhost:8080/"
    },
    "id": "18d8f6ef",
    "outputId": "804be3c4-452b-4fa4-fda1-a5c4ed97452b"
   },
   "outputs": [
    {
     "data": {
      "text/plain": [
       "(438693, 212)"
      ]
     },
     "execution_count": 11,
     "metadata": {},
     "output_type": "execute_result"
    }
   ],
   "source": [
    "df.shape"
   ]
  },
  {
   "cell_type": "code",
   "execution_count": 12,
   "id": "80115081",
   "metadata": {
    "id": "80115081"
   },
   "outputs": [],
   "source": [
    "# CHCOCNCR(Other types of cancer), CHCSCNCR(skin cancer) - This field is for Chronic condition and has the following values:-\n",
    "# 1 - Yes\n",
    "# 2 - No\n",
    "# 7 - Don't Know\n",
    "# 9 - Refused\n",
    "# For our analysis purpose we only need rows where CHCOCNCR or CHCSCNCR is 1 or 2\n",
    "\n",
    "df = df.loc[(df['CHCSCNCR'].isin([1, 2]) | df['CHCOCNCR'].isin([1, 2]))]\n"
   ]
  },
  {
   "cell_type": "code",
   "execution_count": 13,
   "id": "4467e56e",
   "metadata": {
    "colab": {
     "base_uri": "https://localhost:8080/"
    },
    "id": "4467e56e",
    "outputId": "484c69d6-ed5c-4c3d-9cde-b585cab80143"
   },
   "outputs": [
    {
     "data": {
      "text/plain": [
       "(438291, 212)"
      ]
     },
     "execution_count": 13,
     "metadata": {},
     "output_type": "execute_result"
    }
   ],
   "source": [
    "df.shape"
   ]
  },
  {
   "cell_type": "code",
   "execution_count": 14,
   "id": "ce4df26f",
   "metadata": {
    "id": "ce4df26f"
   },
   "outputs": [],
   "source": [
    "# store the count of label for cancer disease\n",
    "skin_cancer_count = np.where(df['CHCSCNCR']==1, 1, 0) #for skin cancer\n",
    "other_cancer_count = np.where(df['CHCOCNCR']==1, 1, 0) # for other cancer\n",
    "skin_other_count = np.where((df['CHCSCNCR']==1) | (df['CHCOCNCR']==1), 1, 0)\n"
   ]
  },
  {
   "cell_type": "code",
   "execution_count": 15,
   "id": "7da1102b",
   "metadata": {
    "id": "7da1102b"
   },
   "outputs": [],
   "source": [
    "# drop the cancer label coulmn \n",
    "df = df.drop(['CHCSCNCR'], axis=1)\n",
    "df = df.drop(['CHCOCNCR'], axis=1)"
   ]
  },
  {
   "cell_type": "code",
   "execution_count": 16,
   "id": "c2d4fcc3",
   "metadata": {
    "colab": {
     "base_uri": "https://localhost:8080/"
    },
    "id": "c2d4fcc3",
    "outputId": "e6ece11a-bb65-4fed-9a8b-c16454860b7c"
   },
   "outputs": [
    {
     "data": {
      "text/plain": [
       "(438291, 210)"
      ]
     },
     "execution_count": 16,
     "metadata": {},
     "output_type": "execute_result"
    }
   ],
   "source": [
    "df.shape"
   ]
  },
  {
   "cell_type": "markdown",
   "id": "3d8641c6",
   "metadata": {
    "id": "3d8641c6"
   },
   "source": [
    "### There are some columns which are not related to health as per our observation from the code book hence its better to remove them"
   ]
  },
  {
   "cell_type": "code",
   "execution_count": 17,
   "id": "178c8d87",
   "metadata": {
    "id": "178c8d87"
   },
   "outputs": [],
   "source": [
    "# removing columns FMONTH, DISPCODE, SEQNO, PVTRESD1, HHADULT\n",
    "df = df.drop(columns = ['FMONTH','DISPCODE','SEQNO','PVTRESD1','HHADULT', 'STATERE1', 'CELPHON1'], axis=1)\n",
    "# removing date columns IMONTH, IDAY, IDATE, and IYEAR as they are the columns of interview date\n",
    "df = df.drop(columns = ['IMONTH', 'IDAY', 'IDATE', 'IYEAR'], axis=1)"
   ]
  },
  {
   "cell_type": "markdown",
   "id": "9952182c",
   "metadata": {
    "id": "9952182c"
   },
   "source": [
    "## Heatmaps are a good way to find out the coorelation between columns. This way we can remove the highly corelated columns "
   ]
  },
  {
   "cell_type": "code",
   "execution_count": 18,
   "id": "04775b8c",
   "metadata": {
    "id": "04775b8c"
   },
   "outputs": [],
   "source": [
    "# Replacing the NaN or Null values with the mode of each columns\n",
    "df2 = df.fillna(df.median())\n",
    "# creating a corelation matrix\n",
    "corr_mat = df2.corr().abs()"
   ]
  },
  {
   "cell_type": "code",
   "execution_count": 19,
   "id": "7750214b",
   "metadata": {
    "colab": {
     "base_uri": "https://localhost:8080/",
     "height": 488
    },
    "id": "7750214b",
    "outputId": "3fdedd11-87c2-4391-f3a9-6fb7bf930f0f"
   },
   "outputs": [
    {
     "data": {
      "text/html": [
       "<div>\n",
       "<style scoped>\n",
       "    .dataframe tbody tr th:only-of-type {\n",
       "        vertical-align: middle;\n",
       "    }\n",
       "\n",
       "    .dataframe tbody tr th {\n",
       "        vertical-align: top;\n",
       "    }\n",
       "\n",
       "    .dataframe thead th {\n",
       "        text-align: right;\n",
       "    }\n",
       "</style>\n",
       "<table border=\"1\" class=\"dataframe\">\n",
       "  <thead>\n",
       "    <tr style=\"text-align: right;\">\n",
       "      <th></th>\n",
       "      <th>_STATE</th>\n",
       "      <th>_PSU</th>\n",
       "      <th>CTELENM1</th>\n",
       "      <th>LADULT1</th>\n",
       "      <th>NUMADULT</th>\n",
       "      <th>LANDSEX</th>\n",
       "      <th>NUMMEN</th>\n",
       "      <th>NUMWOMEN</th>\n",
       "      <th>RESPSLCT</th>\n",
       "      <th>SAFETIME</th>\n",
       "      <th>...</th>\n",
       "      <th>_FRTRES1</th>\n",
       "      <th>_VEGRES1</th>\n",
       "      <th>_FRUTSU1</th>\n",
       "      <th>_VEGESU1</th>\n",
       "      <th>_FRTLT1A</th>\n",
       "      <th>_VEGLT1A</th>\n",
       "      <th>_FRT16A</th>\n",
       "      <th>_VEG23A</th>\n",
       "      <th>_FRUITE1</th>\n",
       "      <th>_VEGETE1</th>\n",
       "    </tr>\n",
       "  </thead>\n",
       "  <tbody>\n",
       "    <tr>\n",
       "      <th>_STATE</th>\n",
       "      <td>1.000000</td>\n",
       "      <td>0.046555</td>\n",
       "      <td>0.001078</td>\n",
       "      <td>0.052158</td>\n",
       "      <td>0.002084</td>\n",
       "      <td>0.007917</td>\n",
       "      <td>0.010886</td>\n",
       "      <td>0.009686</td>\n",
       "      <td>0.009649</td>\n",
       "      <td>NaN</td>\n",
       "      <td>...</td>\n",
       "      <td>0.004736</td>\n",
       "      <td>0.005854</td>\n",
       "      <td>0.001418</td>\n",
       "      <td>0.004332</td>\n",
       "      <td>0.004981</td>\n",
       "      <td>0.004191</td>\n",
       "      <td>0.002045</td>\n",
       "      <td>0.002270</td>\n",
       "      <td>0.005208</td>\n",
       "      <td>0.006339</td>\n",
       "    </tr>\n",
       "    <tr>\n",
       "      <th>_PSU</th>\n",
       "      <td>0.046555</td>\n",
       "      <td>1.000000</td>\n",
       "      <td>0.001632</td>\n",
       "      <td>0.033594</td>\n",
       "      <td>0.101536</td>\n",
       "      <td>0.106525</td>\n",
       "      <td>0.041926</td>\n",
       "      <td>0.065259</td>\n",
       "      <td>0.151604</td>\n",
       "      <td>NaN</td>\n",
       "      <td>...</td>\n",
       "      <td>0.028972</td>\n",
       "      <td>0.029333</td>\n",
       "      <td>0.041220</td>\n",
       "      <td>0.051861</td>\n",
       "      <td>0.030175</td>\n",
       "      <td>0.029469</td>\n",
       "      <td>0.045656</td>\n",
       "      <td>0.055641</td>\n",
       "      <td>0.045385</td>\n",
       "      <td>0.051695</td>\n",
       "    </tr>\n",
       "    <tr>\n",
       "      <th>CTELENM1</th>\n",
       "      <td>0.001078</td>\n",
       "      <td>0.001632</td>\n",
       "      <td>1.000000</td>\n",
       "      <td>0.000088</td>\n",
       "      <td>0.002128</td>\n",
       "      <td>0.005283</td>\n",
       "      <td>0.000163</td>\n",
       "      <td>0.000243</td>\n",
       "      <td>0.000558</td>\n",
       "      <td>NaN</td>\n",
       "      <td>...</td>\n",
       "      <td>0.000774</td>\n",
       "      <td>0.000850</td>\n",
       "      <td>0.000196</td>\n",
       "      <td>0.000119</td>\n",
       "      <td>0.000661</td>\n",
       "      <td>0.000989</td>\n",
       "      <td>0.000152</td>\n",
       "      <td>0.000183</td>\n",
       "      <td>0.000777</td>\n",
       "      <td>0.000855</td>\n",
       "    </tr>\n",
       "    <tr>\n",
       "      <th>LADULT1</th>\n",
       "      <td>0.052158</td>\n",
       "      <td>0.033594</td>\n",
       "      <td>0.000088</td>\n",
       "      <td>1.000000</td>\n",
       "      <td>0.016770</td>\n",
       "      <td>0.002614</td>\n",
       "      <td>0.006788</td>\n",
       "      <td>0.019986</td>\n",
       "      <td>0.000899</td>\n",
       "      <td>NaN</td>\n",
       "      <td>...</td>\n",
       "      <td>0.000685</td>\n",
       "      <td>0.000049</td>\n",
       "      <td>0.001684</td>\n",
       "      <td>0.003174</td>\n",
       "      <td>0.000573</td>\n",
       "      <td>0.000196</td>\n",
       "      <td>0.002927</td>\n",
       "      <td>0.003529</td>\n",
       "      <td>0.000561</td>\n",
       "      <td>0.001633</td>\n",
       "    </tr>\n",
       "    <tr>\n",
       "      <th>NUMADULT</th>\n",
       "      <td>0.002084</td>\n",
       "      <td>0.101536</td>\n",
       "      <td>0.002128</td>\n",
       "      <td>0.016770</td>\n",
       "      <td>1.000000</td>\n",
       "      <td>0.401737</td>\n",
       "      <td>0.436977</td>\n",
       "      <td>0.451937</td>\n",
       "      <td>0.181858</td>\n",
       "      <td>NaN</td>\n",
       "      <td>...</td>\n",
       "      <td>0.000459</td>\n",
       "      <td>0.011948</td>\n",
       "      <td>0.006895</td>\n",
       "      <td>0.004434</td>\n",
       "      <td>0.003819</td>\n",
       "      <td>0.014856</td>\n",
       "      <td>0.002909</td>\n",
       "      <td>0.000814</td>\n",
       "      <td>0.001611</td>\n",
       "      <td>0.010487</td>\n",
       "    </tr>\n",
       "    <tr>\n",
       "      <th>...</th>\n",
       "      <td>...</td>\n",
       "      <td>...</td>\n",
       "      <td>...</td>\n",
       "      <td>...</td>\n",
       "      <td>...</td>\n",
       "      <td>...</td>\n",
       "      <td>...</td>\n",
       "      <td>...</td>\n",
       "      <td>...</td>\n",
       "      <td>...</td>\n",
       "      <td>...</td>\n",
       "      <td>...</td>\n",
       "      <td>...</td>\n",
       "      <td>...</td>\n",
       "      <td>...</td>\n",
       "      <td>...</td>\n",
       "      <td>...</td>\n",
       "      <td>...</td>\n",
       "      <td>...</td>\n",
       "      <td>...</td>\n",
       "      <td>...</td>\n",
       "    </tr>\n",
       "    <tr>\n",
       "      <th>_VEGLT1A</th>\n",
       "      <td>0.004191</td>\n",
       "      <td>0.029469</td>\n",
       "      <td>0.000989</td>\n",
       "      <td>0.000196</td>\n",
       "      <td>0.014856</td>\n",
       "      <td>0.014157</td>\n",
       "      <td>0.000402</td>\n",
       "      <td>0.001771</td>\n",
       "      <td>0.006747</td>\n",
       "      <td>NaN</td>\n",
       "      <td>...</td>\n",
       "      <td>0.728413</td>\n",
       "      <td>0.991044</td>\n",
       "      <td>0.028169</td>\n",
       "      <td>0.049867</td>\n",
       "      <td>0.720994</td>\n",
       "      <td>1.000000</td>\n",
       "      <td>0.014025</td>\n",
       "      <td>0.039712</td>\n",
       "      <td>0.667010</td>\n",
       "      <td>0.882422</td>\n",
       "    </tr>\n",
       "    <tr>\n",
       "      <th>_FRT16A</th>\n",
       "      <td>0.002045</td>\n",
       "      <td>0.045656</td>\n",
       "      <td>0.000152</td>\n",
       "      <td>0.002927</td>\n",
       "      <td>0.002909</td>\n",
       "      <td>0.001722</td>\n",
       "      <td>0.001059</td>\n",
       "      <td>0.001003</td>\n",
       "      <td>0.000372</td>\n",
       "      <td>NaN</td>\n",
       "      <td>...</td>\n",
       "      <td>0.025780</td>\n",
       "      <td>0.011880</td>\n",
       "      <td>0.830494</td>\n",
       "      <td>0.368483</td>\n",
       "      <td>0.036330</td>\n",
       "      <td>0.014025</td>\n",
       "      <td>1.000000</td>\n",
       "      <td>0.398050</td>\n",
       "      <td>0.384194</td>\n",
       "      <td>0.168399</td>\n",
       "    </tr>\n",
       "    <tr>\n",
       "      <th>_VEG23A</th>\n",
       "      <td>0.002270</td>\n",
       "      <td>0.055641</td>\n",
       "      <td>0.000183</td>\n",
       "      <td>0.003529</td>\n",
       "      <td>0.000814</td>\n",
       "      <td>0.001938</td>\n",
       "      <td>0.000060</td>\n",
       "      <td>0.004032</td>\n",
       "      <td>0.000559</td>\n",
       "      <td>NaN</td>\n",
       "      <td>...</td>\n",
       "      <td>0.021542</td>\n",
       "      <td>0.034122</td>\n",
       "      <td>0.375026</td>\n",
       "      <td>0.827891</td>\n",
       "      <td>0.025886</td>\n",
       "      <td>0.039712</td>\n",
       "      <td>0.398050</td>\n",
       "      <td>1.000000</td>\n",
       "      <td>0.142510</td>\n",
       "      <td>0.419175</td>\n",
       "    </tr>\n",
       "    <tr>\n",
       "      <th>_FRUITE1</th>\n",
       "      <td>0.005208</td>\n",
       "      <td>0.045385</td>\n",
       "      <td>0.000777</td>\n",
       "      <td>0.000561</td>\n",
       "      <td>0.001611</td>\n",
       "      <td>0.001593</td>\n",
       "      <td>0.002999</td>\n",
       "      <td>0.001001</td>\n",
       "      <td>0.003337</td>\n",
       "      <td>NaN</td>\n",
       "      <td>...</td>\n",
       "      <td>0.913041</td>\n",
       "      <td>0.672463</td>\n",
       "      <td>0.303213</td>\n",
       "      <td>0.127255</td>\n",
       "      <td>0.892942</td>\n",
       "      <td>0.667010</td>\n",
       "      <td>0.384194</td>\n",
       "      <td>0.142510</td>\n",
       "      <td>1.000000</td>\n",
       "      <td>0.675043</td>\n",
       "    </tr>\n",
       "    <tr>\n",
       "      <th>_VEGETE1</th>\n",
       "      <td>0.006339</td>\n",
       "      <td>0.051695</td>\n",
       "      <td>0.000855</td>\n",
       "      <td>0.001633</td>\n",
       "      <td>0.010487</td>\n",
       "      <td>0.008454</td>\n",
       "      <td>0.000081</td>\n",
       "      <td>0.003877</td>\n",
       "      <td>0.004763</td>\n",
       "      <td>NaN</td>\n",
       "      <td>...</td>\n",
       "      <td>0.656520</td>\n",
       "      <td>0.893073</td>\n",
       "      <td>0.148513</td>\n",
       "      <td>0.338837</td>\n",
       "      <td>0.642941</td>\n",
       "      <td>0.882422</td>\n",
       "      <td>0.168399</td>\n",
       "      <td>0.419175</td>\n",
       "      <td>0.675043</td>\n",
       "      <td>1.000000</td>\n",
       "    </tr>\n",
       "  </tbody>\n",
       "</table>\n",
       "<p>199 rows × 199 columns</p>\n",
       "</div>"
      ],
      "text/plain": [
       "            _STATE      _PSU  CTELENM1   LADULT1  NUMADULT   LANDSEX  \\\n",
       "_STATE    1.000000  0.046555  0.001078  0.052158  0.002084  0.007917   \n",
       "_PSU      0.046555  1.000000  0.001632  0.033594  0.101536  0.106525   \n",
       "CTELENM1  0.001078  0.001632  1.000000  0.000088  0.002128  0.005283   \n",
       "LADULT1   0.052158  0.033594  0.000088  1.000000  0.016770  0.002614   \n",
       "NUMADULT  0.002084  0.101536  0.002128  0.016770  1.000000  0.401737   \n",
       "...            ...       ...       ...       ...       ...       ...   \n",
       "_VEGLT1A  0.004191  0.029469  0.000989  0.000196  0.014856  0.014157   \n",
       "_FRT16A   0.002045  0.045656  0.000152  0.002927  0.002909  0.001722   \n",
       "_VEG23A   0.002270  0.055641  0.000183  0.003529  0.000814  0.001938   \n",
       "_FRUITE1  0.005208  0.045385  0.000777  0.000561  0.001611  0.001593   \n",
       "_VEGETE1  0.006339  0.051695  0.000855  0.001633  0.010487  0.008454   \n",
       "\n",
       "            NUMMEN  NUMWOMEN  RESPSLCT  SAFETIME  ...  _FRTRES1  _VEGRES1  \\\n",
       "_STATE    0.010886  0.009686  0.009649       NaN  ...  0.004736  0.005854   \n",
       "_PSU      0.041926  0.065259  0.151604       NaN  ...  0.028972  0.029333   \n",
       "CTELENM1  0.000163  0.000243  0.000558       NaN  ...  0.000774  0.000850   \n",
       "LADULT1   0.006788  0.019986  0.000899       NaN  ...  0.000685  0.000049   \n",
       "NUMADULT  0.436977  0.451937  0.181858       NaN  ...  0.000459  0.011948   \n",
       "...            ...       ...       ...       ...  ...       ...       ...   \n",
       "_VEGLT1A  0.000402  0.001771  0.006747       NaN  ...  0.728413  0.991044   \n",
       "_FRT16A   0.001059  0.001003  0.000372       NaN  ...  0.025780  0.011880   \n",
       "_VEG23A   0.000060  0.004032  0.000559       NaN  ...  0.021542  0.034122   \n",
       "_FRUITE1  0.002999  0.001001  0.003337       NaN  ...  0.913041  0.672463   \n",
       "_VEGETE1  0.000081  0.003877  0.004763       NaN  ...  0.656520  0.893073   \n",
       "\n",
       "          _FRUTSU1  _VEGESU1  _FRTLT1A  _VEGLT1A   _FRT16A   _VEG23A  \\\n",
       "_STATE    0.001418  0.004332  0.004981  0.004191  0.002045  0.002270   \n",
       "_PSU      0.041220  0.051861  0.030175  0.029469  0.045656  0.055641   \n",
       "CTELENM1  0.000196  0.000119  0.000661  0.000989  0.000152  0.000183   \n",
       "LADULT1   0.001684  0.003174  0.000573  0.000196  0.002927  0.003529   \n",
       "NUMADULT  0.006895  0.004434  0.003819  0.014856  0.002909  0.000814   \n",
       "...            ...       ...       ...       ...       ...       ...   \n",
       "_VEGLT1A  0.028169  0.049867  0.720994  1.000000  0.014025  0.039712   \n",
       "_FRT16A   0.830494  0.368483  0.036330  0.014025  1.000000  0.398050   \n",
       "_VEG23A   0.375026  0.827891  0.025886  0.039712  0.398050  1.000000   \n",
       "_FRUITE1  0.303213  0.127255  0.892942  0.667010  0.384194  0.142510   \n",
       "_VEGETE1  0.148513  0.338837  0.642941  0.882422  0.168399  0.419175   \n",
       "\n",
       "          _FRUITE1  _VEGETE1  \n",
       "_STATE    0.005208  0.006339  \n",
       "_PSU      0.045385  0.051695  \n",
       "CTELENM1  0.000777  0.000855  \n",
       "LADULT1   0.000561  0.001633  \n",
       "NUMADULT  0.001611  0.010487  \n",
       "...            ...       ...  \n",
       "_VEGLT1A  0.667010  0.882422  \n",
       "_FRT16A   0.384194  0.168399  \n",
       "_VEG23A   0.142510  0.419175  \n",
       "_FRUITE1  1.000000  0.675043  \n",
       "_VEGETE1  0.675043  1.000000  \n",
       "\n",
       "[199 rows x 199 columns]"
      ]
     },
     "execution_count": 19,
     "metadata": {},
     "output_type": "execute_result"
    }
   ],
   "source": [
    "corr_mat"
   ]
  },
  {
   "cell_type": "code",
   "execution_count": 20,
   "id": "3cae81cd",
   "metadata": {
    "colab": {
     "base_uri": "https://localhost:8080/"
    },
    "id": "3cae81cd",
    "outputId": "c6d8633d-6f9c-474a-d7cb-0532dfe3c2f9"
   },
   "outputs": [
    {
     "data": {
      "text/plain": [
       "['ACETOUCH',\n",
       " 'ACETTHEM',\n",
       " '_STATE',\n",
       " '_STRWT',\n",
       " '_CRACE1',\n",
       " '_STRWT',\n",
       " '_WT2RAKE',\n",
       " 'EXERANY2',\n",
       " 'LMTJOIN3',\n",
       " '_PRACE1',\n",
       " '_RACE',\n",
       " '_RACEG21',\n",
       " '_IMPRACE',\n",
       " '_RACE',\n",
       " 'SEXVAR',\n",
       " '_HCVU652',\n",
       " '_AGEG5YR',\n",
       " '_AGEG5YR',\n",
       " '_AGE80',\n",
       " 'HTIN4',\n",
       " 'WTKG3',\n",
       " 'EDUCA',\n",
       " '_RFSMOK3',\n",
       " 'DRNKANY5',\n",
       " 'DRNKANY5',\n",
       " 'DROCDY3_',\n",
       " 'DRNKANY5',\n",
       " 'DROCDY3_',\n",
       " '_RFBING5',\n",
       " 'DRNKANY5',\n",
       " 'DROCDY3_',\n",
       " '_RFBING5',\n",
       " '_DRNKWK1',\n",
       " 'HIVTST7',\n",
       " '_MISFRT1',\n",
       " '_MISFRT1',\n",
       " '_MISVEG1',\n",
       " 'FRUTDA2_',\n",
       " 'VEGEDA2_',\n",
       " '_MISFRT1',\n",
       " '_FRTRES1',\n",
       " '_MISVEG1',\n",
       " '_VEGRES1',\n",
       " '_MISFRT1',\n",
       " '_FRTRES1',\n",
       " '_FRTLT1A']"
      ]
     },
     "execution_count": 20,
     "metadata": {},
     "output_type": "execute_result"
    }
   ],
   "source": [
    "high_corrcol = []\n",
    "for i in range(1,corr_mat.shape[0]-1):\n",
    "    for j in range(0,i):\n",
    "        if corr_mat.iloc[i][j] > 0.85:\n",
    "            high_corrcol.append(corr_mat.columns[j])\n",
    "high_corrcol"
   ]
  },
  {
   "cell_type": "code",
   "execution_count": 21,
   "id": "9ed4445f",
   "metadata": {
    "id": "9ed4445f"
   },
   "outputs": [],
   "source": [
    "df2 = df2.drop(high_corrcol,axis = 1)"
   ]
  },
  {
   "cell_type": "code",
   "execution_count": 22,
   "id": "caa364fd",
   "metadata": {
    "colab": {
     "base_uri": "https://localhost:8080/"
    },
    "id": "caa364fd",
    "outputId": "8f26b854-b383-4f0d-f419-c79006c10056"
   },
   "outputs": [
    {
     "data": {
      "text/plain": [
       "(438291, 167)"
      ]
     },
     "execution_count": 22,
     "metadata": {},
     "output_type": "execute_result"
    }
   ],
   "source": [
    "df2.shape"
   ]
  },
  {
   "cell_type": "code",
   "execution_count": 23,
   "id": "66561540",
   "metadata": {
    "id": "66561540"
   },
   "outputs": [],
   "source": [
    "# Now we are inserting the labels columns back to the dataframe\n",
    "df2.insert(len(df2.columns), 'Cancerlabels', skin_other_count)"
   ]
  },
  {
   "cell_type": "code",
   "execution_count": 24,
   "id": "696e9ef8",
   "metadata": {
    "colab": {
     "base_uri": "https://localhost:8080/"
    },
    "id": "696e9ef8",
    "outputId": "3ac468c8-97f6-4072-c2cc-f2c241f78c45"
   },
   "outputs": [
    {
     "data": {
      "text/plain": [
       "(438291, 168)"
      ]
     },
     "execution_count": 24,
     "metadata": {},
     "output_type": "execute_result"
    }
   ],
   "source": [
    "df2.shape"
   ]
  },
  {
   "cell_type": "code",
   "execution_count": 25,
   "id": "f2bd0c25",
   "metadata": {
    "id": "f2bd0c25"
   },
   "outputs": [],
   "source": [
    "final_data = df2.copy()"
   ]
  },
  {
   "cell_type": "markdown",
   "id": "0d270337",
   "metadata": {
    "id": "0d270337"
   },
   "source": [
    "# Data Visulization"
   ]
  },
  {
   "cell_type": "markdown",
   "id": "e04dad80",
   "metadata": {
    "id": "e04dad80"
   },
   "source": [
    "## Relationship between health condition and cancer\n",
    "The data provided has the chronic health condition criteria which will help us to know how chronic health condition is related to cancer\n",
    "Field name for chronic health condition - HAVARTH5\n"
   ]
  },
  {
   "cell_type": "code",
   "execution_count": 26,
   "id": "abd5b2b5",
   "metadata": {
    "id": "abd5b2b5"
   },
   "outputs": [],
   "source": [
    "data_visual1 = final_data.copy()"
   ]
  },
  {
   "cell_type": "code",
   "execution_count": 27,
   "id": "a658b257",
   "metadata": {
    "id": "a658b257"
   },
   "outputs": [],
   "source": [
    "# Convert values\n",
    "\n",
    "data_visual1['HAVARTH5'].replace(2, 0, inplace=True)\n",
    "data_visual1['HAVARTH5'].replace(7, np.nan, inplace=True)\n",
    "data_visual1['HAVARTH5'].replace(9, np.nan, inplace=True)"
   ]
  },
  {
   "cell_type": "code",
   "execution_count": 28,
   "id": "eecfa928",
   "metadata": {
    "colab": {
     "base_uri": "https://localhost:8080/",
     "height": 35
    },
    "id": "eecfa928",
    "outputId": "53eb0d7d-d89a-4524-ce76-2ab28f8f76ca"
   },
   "outputs": [
    {
     "data": {
      "text/plain": [
       "<Figure size 1500x2000 with 0 Axes>"
      ]
     },
     "metadata": {},
     "output_type": "display_data"
    }
   ],
   "source": [
    "plt.figure(figsize=(15,20))\n",
    "data_visual = data_visual1.groupby(['HAVARTH5','Cancerlabels']).size()"
   ]
  },
  {
   "cell_type": "code",
   "execution_count": 29,
   "id": "1980639c",
   "metadata": {
    "id": "1980639c"
   },
   "outputs": [],
   "source": [
    "# got this code from https://problemsolvingwithpython.com/06-Plotting-with-Matplotlib/06.06-Bar-Charts-and-Pie-Charts/\n",
    "plot_data = data_visual.unstack()\n",
    "data_transpose = plot_data.transpose()\n",
    "data_percent_split = data_transpose.div(data_transpose.sum())\n",
    "data_to_plot_percent2 = data_percent_split.transpose()"
   ]
  },
  {
   "cell_type": "code",
   "execution_count": 33,
   "id": "0b13051e",
   "metadata": {
    "colab": {
     "base_uri": "https://localhost:8080/",
     "height": 301
    },
    "id": "0b13051e",
    "outputId": "7701255c-d39a-42d1-f1d0-4128a14d49bb"
   },
   "outputs": [
    {
     "data": {
      "image/png": "[encoded data removed]",
      "text/plain": [
       "<Figure size 640x480 with 1 Axes>"
      ]
     },
     "metadata": {},
     "output_type": "display_data"
    }
   ],
   "source": [
    "data_to_plot_percent2.plot(kind='bar',stacked=True).legend([\"No Cancer\", \"Cancer\"], loc='upper left', bbox_to_anchor=(1,1), ncol=1)\n",
    "positions = (0, 1)\n",
    "labels = (\"No\", \"Yes\")\n",
    "plt.xticks(positions, labels)\n",
    "plt.xlabel('Chronic diseases')\n",
    "plt.ylabel('Count %')\n",
    "plt.title(\"cancer cases based on other chronic diseases\")\n",
    "\n",
    "plt.show()"
   ]
  },
  {
   "cell_type": "markdown",
   "id": "c301e8f8",
   "metadata": {},
   "source": [
    "## Relationship between Cancer and Gender"
   ]
  },
  {
   "cell_type": "code",
   "execution_count": 35,
   "id": "b273f97f",
   "metadata": {},
   "outputs": [],
   "source": [
    "data_visual2 = final_data.copy()"
   ]
  },
  {
   "cell_type": "code",
   "execution_count": 52,
   "id": "bfe40303",
   "metadata": {},
   "outputs": [],
   "source": [
    "count_male = len(data_visual2[data_visual2['CELLSEX']==1])\n",
    "count_female = len(data_visual2[data_visual2['CELLSEX']==2])"
   ]
  },
  {
   "cell_type": "code",
   "execution_count": 54,
   "id": "f2d9aae1",
   "metadata": {},
   "outputs": [
    {
     "data": {
      "text/plain": [
       "159787"
      ]
     },
     "execution_count": 54,
     "metadata": {},
     "output_type": "execute_result"
    }
   ],
   "source": [
    "count_male"
   ]
  },
  {
   "cell_type": "code",
   "execution_count": 55,
   "id": "d81cc55a",
   "metadata": {},
   "outputs": [],
   "source": [
    "y = []\n",
    "y.append(count_male)\n",
    "y.append(count_female)\n",
    "labels = [\"Male\", \"Female\"]"
   ]
  },
  {
   "cell_type": "code",
   "execution_count": 56,
   "id": "430f1e0a",
   "metadata": {},
   "outputs": [
    {
     "data": {
      "image/png": "[encoded data removed]",
      "text/plain": [
       "<Figure size 640x480 with 1 Axes>"
      ]
     },
     "metadata": {},
     "output_type": "display_data"
    }
   ],
   "source": [
    "plt.pie(y, labels = labels, startangle = 90)\n",
    "plt.show() "
   ]
  },
  {
   "cell_type": "markdown",
   "id": "cd123938",
   "metadata": {
    "id": "cd123938"
   },
   "source": [
    "# Classification of having cancer"
   ]
  },
  {
   "cell_type": "code",
   "execution_count": null,
   "id": "3f1d4215",
   "metadata": {
    "colab": {
     "base_uri": "https://localhost:8080/",
     "height": 299
    },
    "id": "3f1d4215",
    "outputId": "ef0c85c7-5d7a-4014-c32f-c637a12f5183"
   },
   "outputs": [
    {
     "data": {
      "text/html": [
       "\n",
       "  <div id=\"df-f4933d7a-3d5c-4c18-9b0f-0d2d4221ff69\">\n",
       "    <div class=\"colab-df-container\">\n",
       "      <div>\n",
       "<style scoped>\n",
       "    .dataframe tbody tr th:only-of-type {\n",
       "        vertical-align: middle;\n",
       "    }\n",
       "\n",
       "    .dataframe tbody tr th {\n",
       "        vertical-align: top;\n",
       "    }\n",
       "\n",
       "    .dataframe thead th {\n",
       "        text-align: right;\n",
       "    }\n",
       "</style>\n",
       "<table border=\"1\" class=\"dataframe\">\n",
       "  <thead>\n",
       "    <tr style=\"text-align: right;\">\n",
       "      <th></th>\n",
       "      <th>_PSU</th>\n",
       "      <th>CTELENM1</th>\n",
       "      <th>LADULT1</th>\n",
       "      <th>NUMADULT</th>\n",
       "      <th>LANDSEX</th>\n",
       "      <th>NUMMEN</th>\n",
       "      <th>NUMWOMEN</th>\n",
       "      <th>RESPSLCT</th>\n",
       "      <th>SAFETIME</th>\n",
       "      <th>CTELNUM1</th>\n",
       "      <th>...</th>\n",
       "      <th>FRNCHDA_</th>\n",
       "      <th>POTADA1_</th>\n",
       "      <th>_FRUTSU1</th>\n",
       "      <th>_VEGESU1</th>\n",
       "      <th>_VEGLT1A</th>\n",
       "      <th>_FRT16A</th>\n",
       "      <th>_VEG23A</th>\n",
       "      <th>_FRUITE1</th>\n",
       "      <th>_VEGETE1</th>\n",
       "      <th>Cancerlabels</th>\n",
       "    </tr>\n",
       "  </thead>\n",
       "  <tbody>\n",
       "    <tr>\n",
       "      <th>0</th>\n",
       "      <td>2.021000e+09</td>\n",
       "      <td>1.0</td>\n",
       "      <td>1.0</td>\n",
       "      <td>2.0</td>\n",
       "      <td>2.0</td>\n",
       "      <td>1.0</td>\n",
       "      <td>1.0</td>\n",
       "      <td>2.0</td>\n",
       "      <td>1.0</td>\n",
       "      <td>1.0</td>\n",
       "      <td>...</td>\n",
       "      <td>43.0</td>\n",
       "      <td>14.0</td>\n",
       "      <td>100.0</td>\n",
       "      <td>214.0</td>\n",
       "      <td>1.0</td>\n",
       "      <td>1.0</td>\n",
       "      <td>1.0</td>\n",
       "      <td>0.0</td>\n",
       "      <td>0.0</td>\n",
       "      <td>0</td>\n",
       "    </tr>\n",
       "    <tr>\n",
       "      <th>1</th>\n",
       "      <td>2.021000e+09</td>\n",
       "      <td>1.0</td>\n",
       "      <td>1.0</td>\n",
       "      <td>2.0</td>\n",
       "      <td>2.0</td>\n",
       "      <td>1.0</td>\n",
       "      <td>1.0</td>\n",
       "      <td>2.0</td>\n",
       "      <td>1.0</td>\n",
       "      <td>1.0</td>\n",
       "      <td>...</td>\n",
       "      <td>0.0</td>\n",
       "      <td>14.0</td>\n",
       "      <td>100.0</td>\n",
       "      <td>128.0</td>\n",
       "      <td>1.0</td>\n",
       "      <td>1.0</td>\n",
       "      <td>1.0</td>\n",
       "      <td>0.0</td>\n",
       "      <td>0.0</td>\n",
       "      <td>0</td>\n",
       "    </tr>\n",
       "    <tr>\n",
       "      <th>2</th>\n",
       "      <td>2.021000e+09</td>\n",
       "      <td>1.0</td>\n",
       "      <td>1.0</td>\n",
       "      <td>2.0</td>\n",
       "      <td>2.0</td>\n",
       "      <td>1.0</td>\n",
       "      <td>1.0</td>\n",
       "      <td>2.0</td>\n",
       "      <td>1.0</td>\n",
       "      <td>1.0</td>\n",
       "      <td>...</td>\n",
       "      <td>14.0</td>\n",
       "      <td>14.0</td>\n",
       "      <td>100.0</td>\n",
       "      <td>71.0</td>\n",
       "      <td>2.0</td>\n",
       "      <td>1.0</td>\n",
       "      <td>1.0</td>\n",
       "      <td>0.0</td>\n",
       "      <td>0.0</td>\n",
       "      <td>0</td>\n",
       "    </tr>\n",
       "    <tr>\n",
       "      <th>3</th>\n",
       "      <td>2.021000e+09</td>\n",
       "      <td>1.0</td>\n",
       "      <td>1.0</td>\n",
       "      <td>2.0</td>\n",
       "      <td>2.0</td>\n",
       "      <td>1.0</td>\n",
       "      <td>1.0</td>\n",
       "      <td>2.0</td>\n",
       "      <td>1.0</td>\n",
       "      <td>1.0</td>\n",
       "      <td>...</td>\n",
       "      <td>57.0</td>\n",
       "      <td>27.0</td>\n",
       "      <td>114.0</td>\n",
       "      <td>165.0</td>\n",
       "      <td>1.0</td>\n",
       "      <td>1.0</td>\n",
       "      <td>1.0</td>\n",
       "      <td>0.0</td>\n",
       "      <td>0.0</td>\n",
       "      <td>0</td>\n",
       "    </tr>\n",
       "    <tr>\n",
       "      <th>4</th>\n",
       "      <td>2.021000e+09</td>\n",
       "      <td>1.0</td>\n",
       "      <td>1.0</td>\n",
       "      <td>2.0</td>\n",
       "      <td>2.0</td>\n",
       "      <td>1.0</td>\n",
       "      <td>1.0</td>\n",
       "      <td>1.0</td>\n",
       "      <td>1.0</td>\n",
       "      <td>1.0</td>\n",
       "      <td>...</td>\n",
       "      <td>29.0</td>\n",
       "      <td>29.0</td>\n",
       "      <td>100.0</td>\n",
       "      <td>258.0</td>\n",
       "      <td>1.0</td>\n",
       "      <td>1.0</td>\n",
       "      <td>1.0</td>\n",
       "      <td>0.0</td>\n",
       "      <td>0.0</td>\n",
       "      <td>0</td>\n",
       "    </tr>\n",
       "  </tbody>\n",
       "</table>\n",
       "<p>5 rows × 168 columns</p>\n",
       "</div>\n",
       "      <button class=\"colab-df-convert\" onclick=\"convertToInteractive('df-f4933d7a-3d5c-4c18-9b0f-0d2d4221ff69')\"\n",
       "              title=\"Convert this dataframe to an interactive table.\"\n",
       "              style=\"display:none;\">\n",
       "        \n",
       "  <svg xmlns=\"http://www.w3.org/2000/svg\" height=\"24px\"viewBox=\"0 0 24 24\"\n",
       "       width=\"24px\">\n",
       "    <path d=\"M0 0h24v24H0V0z\" fill=\"none\"/>\n",
       "    <path d=\"M18.56 5.44l.94 2.06.94-2.06 2.06-.94-2.06-.94-.94-2.06-.94 2.06-2.06.94zm-11 1L8.5 8.5l.94-2.06 2.06-.94-2.06-.94L8.5 2.5l-.94 2.06-2.06.94zm10 10l.94 2.06.94-2.06 2.06-.94-2.06-.94-.94-2.06-.94 2.06-2.06.94z\"/><path d=\"M17.41 7.96l-1.37-1.37c-.4-.4-.92-.59-1.43-.59-.52 0-1.04.2-1.43.59L10.3 9.45l-7.72 7.72c-.78.78-.78 2.05 0 2.83L4 21.41c.39.39.9.59 1.41.59.51 0 1.02-.2 1.41-.59l7.78-7.78 2.81-2.81c.8-.78.8-2.07 0-2.86zM5.41 20L4 18.59l7.72-7.72 1.47 1.35L5.41 20z\"/>\n",
       "  </svg>\n",
       "      </button>\n",
       "      \n",
       "  <style>\n",
       "    .colab-df-container {\n",
       "      display:flex;\n",
       "      flex-wrap:wrap;\n",
       "      gap: 12px;\n",
       "    }\n",
       "\n",
       "    .colab-df-convert {\n",
       "      background-color: #E8F0FE;\n",
       "      border: none;\n",
       "      border-radius: 50%;\n",
       "      cursor: pointer;\n",
       "      display: none;\n",
       "      fill: #1967D2;\n",
       "      height: 32px;\n",
       "      padding: 0 0 0 0;\n",
       "      width: 32px;\n",
       "    }\n",
       "\n",
       "    .colab-df-convert:hover {\n",
       "      background-color: #E2EBFA;\n",
       "      box-shadow: 0px 1px 2px rgba(60, 64, 67, 0.3), 0px 1px 3px 1px rgba(60, 64, 67, 0.15);\n",
       "      fill: #174EA6;\n",
       "    }\n",
       "\n",
       "    [theme=dark] .colab-df-convert {\n",
       "      background-color: #3B4455;\n",
       "      fill: #D2E3FC;\n",
       "    }\n",
       "\n",
       "    [theme=dark] .colab-df-convert:hover {\n",
       "      background-color: #434B5C;\n",
       "      box-shadow: 0px 1px 3px 1px rgba(0, 0, 0, 0.15);\n",
       "      filter: drop-shadow(0px 1px 2px rgba(0, 0, 0, 0.3));\n",
       "      fill: #FFFFFF;\n",
       "    }\n",
       "  </style>\n",
       "\n",
       "      <script>\n",
       "        const buttonEl =\n",
       "          document.querySelector('#df-f4933d7a-3d5c-4c18-9b0f-0d2d4221ff69 button.colab-df-convert');\n",
       "        buttonEl.style.display =\n",
       "          google.colab.kernel.accessAllowed ? 'block' : 'none';\n",
       "\n",
       "        async function convertToInteractive(key) {\n",
       "          const element = document.querySelector('#df-f4933d7a-3d5c-4c18-9b0f-0d2d4221ff69');\n",
       "          const dataTable =\n",
       "            await google.colab.kernel.invokeFunction('convertToInteractive',\n",
       "                                                     [key], {});\n",
       "          if (!dataTable) return;\n",
       "\n",
       "          const docLinkHtml = 'Like what you see? Visit the ' +\n",
       "            '<a target=\"_blank\" href=https://colab.research.google.com/notebooks/data_table.ipynb>data table notebook</a>'\n",
       "            + ' to learn more about interactive tables.';\n",
       "          element.innerHTML = '';\n",
       "          dataTable['output_type'] = 'display_data';\n",
       "          await google.colab.output.renderOutput(dataTable, element);\n",
       "          const docLink = document.createElement('div');\n",
       "          docLink.innerHTML = docLinkHtml;\n",
       "          element.appendChild(docLink);\n",
       "        }\n",
       "      </script>\n",
       "    </div>\n",
       "  </div>\n",
       "  "
      ],
      "text/plain": [
       "           _PSU  CTELENM1  LADULT1  NUMADULT  LANDSEX  NUMMEN  NUMWOMEN  \\\n",
       "0  2.021000e+09       1.0      1.0       2.0      2.0     1.0       1.0   \n",
       "1  2.021000e+09       1.0      1.0       2.0      2.0     1.0       1.0   \n",
       "2  2.021000e+09       1.0      1.0       2.0      2.0     1.0       1.0   \n",
       "3  2.021000e+09       1.0      1.0       2.0      2.0     1.0       1.0   \n",
       "4  2.021000e+09       1.0      1.0       2.0      2.0     1.0       1.0   \n",
       "\n",
       "   RESPSLCT  SAFETIME  CTELNUM1  ...  FRNCHDA_  POTADA1_  _FRUTSU1  _VEGESU1  \\\n",
       "0       2.0       1.0       1.0  ...      43.0      14.0     100.0     214.0   \n",
       "1       2.0       1.0       1.0  ...       0.0      14.0     100.0     128.0   \n",
       "2       2.0       1.0       1.0  ...      14.0      14.0     100.0      71.0   \n",
       "3       2.0       1.0       1.0  ...      57.0      27.0     114.0     165.0   \n",
       "4       1.0       1.0       1.0  ...      29.0      29.0     100.0     258.0   \n",
       "\n",
       "   _VEGLT1A  _FRT16A  _VEG23A  _FRUITE1  _VEGETE1  Cancerlabels  \n",
       "0       1.0      1.0      1.0       0.0       0.0             0  \n",
       "1       1.0      1.0      1.0       0.0       0.0             0  \n",
       "2       2.0      1.0      1.0       0.0       0.0             0  \n",
       "3       1.0      1.0      1.0       0.0       0.0             0  \n",
       "4       1.0      1.0      1.0       0.0       0.0             0  \n",
       "\n",
       "[5 rows x 168 columns]"
      ]
     },
     "execution_count": 30,
     "metadata": {},
     "output_type": "execute_result"
    }
   ],
   "source": [
    "final_data.head()"
   ]
  },
  {
   "cell_type": "code",
   "execution_count": null,
   "id": "4c60b9f9",
   "metadata": {
    "id": "4c60b9f9"
   },
   "outputs": [],
   "source": [
    "#Seperating the labels from the dataset\n",
    "cancer_label = final_data['Cancerlabels']\n",
    "\n",
    "#drop the Cancerlabel\n",
    "final_data.drop(['Cancerlabels'], axis=1, inplace=True)"
   ]
  },
  {
   "cell_type": "code",
   "execution_count": null,
   "id": "eb79c725",
   "metadata": {
    "colab": {
     "base_uri": "https://localhost:8080/"
    },
    "id": "eb79c725",
    "outputId": "402a1163-4201-4b88-ca03-80ecb59106a3"
   },
   "outputs": [
    {
     "name": "stdout",
     "output_type": "stream",
     "text": [
      "364506   73785\n"
     ]
    }
   ],
   "source": [
    "has_cancer = 0\n",
    "no_cancer = 0\n",
    "for i in cancer_label:\n",
    "    if i == 0:\n",
    "        has_cancer+=1\n",
    "    else:\n",
    "        no_cancer+=1\n",
    "\n",
    "# Actual count of cancer labels below\n",
    "print(has_cancer,\" \",no_cancer)"
   ]
  },
  {
   "cell_type": "markdown",
   "id": "3e3250ce",
   "metadata": {
    "id": "3e3250ce"
   },
   "source": [
    "## It is better to scale the features before proceeding to classification"
   ]
  },
  {
   "cell_type": "code",
   "execution_count": null,
   "id": "07122dfd",
   "metadata": {
    "id": "07122dfd"
   },
   "outputs": [],
   "source": [
    "# Using Standard scaler to scale the data\n",
    "scaler = StandardScaler()\n",
    "final_normalized = scaler.fit_transform(final_data)"
   ]
  },
  {
   "cell_type": "markdown",
   "id": "54cb85b7",
   "metadata": {
    "id": "54cb85b7"
   },
   "source": [
    "## Test_Train Split"
   ]
  },
  {
   "cell_type": "code",
   "execution_count": null,
   "id": "a3f8c617",
   "metadata": {
    "id": "a3f8c617"
   },
   "outputs": [],
   "source": [
    "X_train, X_test, y_train, y_test = train_test_split(final_normalized, cancer_label, shuffle=True, test_size=0.3, random_state=42)"
   ]
  },
  {
   "cell_type": "markdown",
   "id": "f6888d4b",
   "metadata": {
    "id": "f6888d4b"
   },
   "source": [
    "## Random Forest for Classification"
   ]
  },
  {
   "cell_type": "code",
   "execution_count": null,
   "id": "14428e03",
   "metadata": {
    "id": "14428e03"
   },
   "outputs": [],
   "source": [
    "from sklearn.model_selection import GridSearchCV, RandomizedSearchCV"
   ]
  },
  {
   "cell_type": "code",
   "execution_count": null,
   "id": "b5d4031d",
   "metadata": {
    "colab": {
     "base_uri": "https://localhost:8080/"
    },
    "id": "b5d4031d",
    "outputId": "4bb94f2a-e3e6-4dcf-a752-8b8cf010c296"
   },
   "outputs": [
    {
     "name": "stdout",
     "output_type": "stream",
     "text": [
      "Fitting 5 folds for each of 4 candidates, totalling 20 fits\n",
      "[CV] END .....................max_depth=10, n_estimators=100; total time=  58.5s\n",
      "[CV] END .....................max_depth=10, n_estimators=100; total time= 1.0min\n",
      "[CV] END .....................max_depth=10, n_estimators=100; total time=  57.9s\n",
      "[CV] END .....................max_depth=10, n_estimators=100; total time= 1.0min\n",
      "[CV] END .....................max_depth=10, n_estimators=100; total time=  58.2s\n",
      "[CV] END .....................max_depth=10, n_estimators=150; total time= 1.5min\n",
      "[CV] END .....................max_depth=10, n_estimators=150; total time= 1.5min\n",
      "[CV] END .....................max_depth=10, n_estimators=150; total time= 1.5min\n",
      "[CV] END .....................max_depth=10, n_estimators=150; total time= 1.5min\n",
      "[CV] END .....................max_depth=10, n_estimators=150; total time= 1.5min\n",
      "[CV] END .....................max_depth=15, n_estimators=100; total time= 1.3min\n",
      "[CV] END .....................max_depth=15, n_estimators=100; total time= 1.3min\n",
      "[CV] END .....................max_depth=15, n_estimators=100; total time= 1.3min\n",
      "[CV] END .....................max_depth=15, n_estimators=100; total time= 1.2min\n",
      "[CV] END .....................max_depth=15, n_estimators=100; total time= 1.3min\n",
      "[CV] END .....................max_depth=15, n_estimators=150; total time= 1.9min\n",
      "[CV] END .....................max_depth=15, n_estimators=150; total time= 1.8min\n",
      "[CV] END .....................max_depth=15, n_estimators=150; total time= 1.7min\n",
      "[CV] END .....................max_depth=15, n_estimators=150; total time= 1.8min\n",
      "[CV] END .....................max_depth=15, n_estimators=150; total time= 1.8min\n"
     ]
    }
   ],
   "source": [
    "model = RandomForestClassifier()\n",
    "params = {'max_depth':[10, 15], 'n_estimators':[100, 150]}\n",
    "\n",
    "gsc = GridSearchCV(model, params, cv=5,verbose=2)\n",
    "gsc.fit(X_train,y_train.ravel())\n",
    "gsc_best = gsc.best_estimator_\n",
    "y_pred=gsc_best.predict(X_test)"
   ]
  },
  {
   "cell_type": "code",
   "execution_count": null,
   "id": "bb97ae18",
   "metadata": {
    "colab": {
     "base_uri": "https://localhost:8080/"
    },
    "id": "bb97ae18",
    "outputId": "268cfbd9-a7c8-4e85-bcef-2a5b6dfb2582"
   },
   "outputs": [
    {
     "name": "stdout",
     "output_type": "stream",
     "text": [
      "              precision    recall  f1-score   support\n",
      "\n",
      "           0       0.83      1.00      0.91    109268\n",
      "           1       0.62      0.01      0.02     22220\n",
      "\n",
      "    accuracy                           0.83    131488\n",
      "   macro avg       0.72      0.50      0.46    131488\n",
      "weighted avg       0.80      0.83      0.76    131488\n",
      "\n"
     ]
    }
   ],
   "source": [
    "print(classification_report(y_test, y_pred))"
   ]
  },
  {
   "cell_type": "code",
   "execution_count": null,
   "id": "0d8b6a8d",
   "metadata": {
    "id": "0d8b6a8d"
   },
   "outputs": [],
   "source": [
    "with open('Final_Project_rf.dat', 'w') as fw:\n",
    "    for m in y_pred:\n",
    "        print(m, file=fw)"
   ]
  },
  {
   "cell_type": "markdown",
   "id": "4c481087",
   "metadata": {
    "id": "4c481087"
   },
   "source": [
    "# Logistic Regression"
   ]
  },
  {
   "cell_type": "code",
   "execution_count": null,
   "id": "5f1ac588",
   "metadata": {
    "id": "5f1ac588"
   },
   "outputs": [],
   "source": [
    "parameters = {'max_iter':[100, 150]}"
   ]
  },
  {
   "cell_type": "code",
   "execution_count": null,
   "id": "fcddf740",
   "metadata": {
    "colab": {
     "base_uri": "https://localhost:8080/"
    },
    "id": "fcddf740",
    "outputId": "45a846ff-6078-4e38-e992-3007220dd333"
   },
   "outputs": [
    {
     "data": {
      "text/plain": [
       "GridSearchCV(estimator=LogisticRegression(class_weight='balanced'),\n",
       "             param_grid={'max_iter': [150]}, scoring='recall')"
      ]
     },
     "execution_count": 47,
     "metadata": {},
     "output_type": "execute_result"
    }
   ],
   "source": [
    "model = LogisticRegression(class_weight=\"balanced\")\n",
    "clf = GridSearchCV(model, parameters, scoring='recall')\n",
    "clf.fit(X_train, y_train)"
   ]
  },
  {
   "cell_type": "code",
   "execution_count": null,
   "id": "09ddf45b",
   "metadata": {
    "colab": {
     "base_uri": "https://localhost:8080/"
    },
    "id": "09ddf45b",
    "outputId": "7eea6db9-42be-44c1-e4a9-3d7ba84d2edc"
   },
   "outputs": [
    {
     "name": "stdout",
     "output_type": "stream",
     "text": [
      "              precision    recall  f1-score   support\n",
      "\n",
      "           0       0.95      0.58      0.72    109268\n",
      "           1       0.29      0.83      0.43     22220\n",
      "\n",
      "    accuracy                           0.63    131488\n",
      "   macro avg       0.62      0.71      0.58    131488\n",
      "weighted avg       0.83      0.63      0.67    131488\n",
      "\n"
     ]
    }
   ],
   "source": [
    "y_true, y_pred = y_test, clf.predict(X_test)\n",
    "print(classification_report(y_true, y_pred))"
   ]
  },
  {
   "cell_type": "code",
   "execution_count": null,
   "id": "17c166a0",
   "metadata": {
    "id": "17c166a0"
   },
   "outputs": [],
   "source": [
    "with open('Final_Project_lr.dat', 'w') as fw:\n",
    "    for m in y_pred:\n",
    "        print(m, file=fw)"
   ]
  },
  {
   "cell_type": "markdown",
   "id": "3f304cae",
   "metadata": {
    "id": "3f304cae"
   },
   "source": [
    "# Decision Tree"
   ]
  },
  {
   "cell_type": "code",
   "execution_count": null,
   "id": "0fb1670a",
   "metadata": {
    "id": "0fb1670a"
   },
   "outputs": [],
   "source": [
    "parameters = {'splitter':['best', 'random'], 'max_depth':[5, 10, 15, 20, 25], 'criterion':['gini', 'entropy']}"
   ]
  },
  {
   "cell_type": "code",
   "execution_count": null,
   "id": "44cf81b6",
   "metadata": {
    "id": "44cf81b6"
   },
   "outputs": [],
   "source": [
    "from sklearn import tree"
   ]
  },
  {
   "cell_type": "code",
   "execution_count": null,
   "id": "aa154b7a",
   "metadata": {
    "colab": {
     "base_uri": "https://localhost:8080/"
    },
    "id": "aa154b7a",
    "outputId": "1c1481bc-f260-4ad1-cb01-7888c770b271"
   },
   "outputs": [
    {
     "name": "stdout",
     "output_type": "stream",
     "text": [
      "Fitting 5 folds for each of 20 candidates, totalling 100 fits\n",
      "[CV] END .........criterion=gini, max_depth=5, splitter=best; total time=   9.8s\n",
      "[CV] END .........criterion=gini, max_depth=5, splitter=best; total time=   6.8s\n",
      "[CV] END .........criterion=gini, max_depth=5, splitter=best; total time=   6.8s\n",
      "[CV] END .........criterion=gini, max_depth=5, splitter=best; total time=   6.5s\n",
      "[CV] END .........criterion=gini, max_depth=5, splitter=best; total time=   6.4s\n",
      "[CV] END .......criterion=gini, max_depth=5, splitter=random; total time=   4.4s\n",
      "[CV] END .......criterion=gini, max_depth=5, splitter=random; total time=   4.5s\n",
      "[CV] END .......criterion=gini, max_depth=5, splitter=random; total time=   4.2s\n",
      "[CV] END .......criterion=gini, max_depth=5, splitter=random; total time=   4.3s\n",
      "[CV] END .......criterion=gini, max_depth=5, splitter=random; total time=   4.0s\n",
      "[CV] END ........criterion=gini, max_depth=10, splitter=best; total time=  10.4s\n",
      "[CV] END ........criterion=gini, max_depth=10, splitter=best; total time=  10.4s\n",
      "[CV] END ........criterion=gini, max_depth=10, splitter=best; total time=  10.1s\n",
      "[CV] END ........criterion=gini, max_depth=10, splitter=best; total time=  10.2s\n",
      "[CV] END ........criterion=gini, max_depth=10, splitter=best; total time=  10.5s\n",
      "[CV] END ......criterion=gini, max_depth=10, splitter=random; total time=   5.9s\n",
      "[CV] END ......criterion=gini, max_depth=10, splitter=random; total time=   6.0s\n",
      "[CV] END ......criterion=gini, max_depth=10, splitter=random; total time=   6.1s\n",
      "[CV] END ......criterion=gini, max_depth=10, splitter=random; total time=   6.0s\n",
      "[CV] END ......criterion=gini, max_depth=10, splitter=random; total time=   5.7s\n",
      "[CV] END ........criterion=gini, max_depth=15, splitter=best; total time=  13.5s\n",
      "[CV] END ........criterion=gini, max_depth=15, splitter=best; total time=  13.4s\n",
      "[CV] END ........criterion=gini, max_depth=15, splitter=best; total time=  13.4s\n",
      "[CV] END ........criterion=gini, max_depth=15, splitter=best; total time=  13.3s\n",
      "[CV] END ........criterion=gini, max_depth=15, splitter=best; total time=  13.5s\n",
      "[CV] END ......criterion=gini, max_depth=15, splitter=random; total time=   7.3s\n",
      "[CV] END ......criterion=gini, max_depth=15, splitter=random; total time=   7.0s\n",
      "[CV] END ......criterion=gini, max_depth=15, splitter=random; total time=   7.2s\n",
      "[CV] END ......criterion=gini, max_depth=15, splitter=random; total time=   7.1s\n",
      "[CV] END ......criterion=gini, max_depth=15, splitter=random; total time=   7.1s\n",
      "[CV] END ........criterion=gini, max_depth=20, splitter=best; total time=  15.9s\n",
      "[CV] END ........criterion=gini, max_depth=20, splitter=best; total time=  15.3s\n",
      "[CV] END ........criterion=gini, max_depth=20, splitter=best; total time=  15.6s\n",
      "[CV] END ........criterion=gini, max_depth=20, splitter=best; total time=  15.6s\n",
      "[CV] END ........criterion=gini, max_depth=20, splitter=best; total time=  15.5s\n",
      "[CV] END ......criterion=gini, max_depth=20, splitter=random; total time=   7.7s\n",
      "[CV] END ......criterion=gini, max_depth=20, splitter=random; total time=   8.0s\n",
      "[CV] END ......criterion=gini, max_depth=20, splitter=random; total time=   8.0s\n",
      "[CV] END ......criterion=gini, max_depth=20, splitter=random; total time=   7.7s\n",
      "[CV] END ......criterion=gini, max_depth=20, splitter=random; total time=   8.2s\n",
      "[CV] END ........criterion=gini, max_depth=25, splitter=best; total time=  17.2s\n",
      "[CV] END ........criterion=gini, max_depth=25, splitter=best; total time=  17.6s\n",
      "[CV] END ........criterion=gini, max_depth=25, splitter=best; total time=  16.9s\n",
      "[CV] END ........criterion=gini, max_depth=25, splitter=best; total time=  17.0s\n",
      "[CV] END ........criterion=gini, max_depth=25, splitter=best; total time=  16.8s\n",
      "[CV] END ......criterion=gini, max_depth=25, splitter=random; total time=   8.5s\n",
      "[CV] END ......criterion=gini, max_depth=25, splitter=random; total time=   8.5s\n",
      "[CV] END ......criterion=gini, max_depth=25, splitter=random; total time=   8.8s\n",
      "[CV] END ......criterion=gini, max_depth=25, splitter=random; total time=   8.7s\n",
      "[CV] END ......criterion=gini, max_depth=25, splitter=random; total time=   8.5s\n",
      "[CV] END ......criterion=entropy, max_depth=5, splitter=best; total time=   6.7s\n",
      "[CV] END ......criterion=entropy, max_depth=5, splitter=best; total time=   7.1s\n",
      "[CV] END ......criterion=entropy, max_depth=5, splitter=best; total time=   7.1s\n",
      "[CV] END ......criterion=entropy, max_depth=5, splitter=best; total time=   7.0s\n",
      "[CV] END ......criterion=entropy, max_depth=5, splitter=best; total time=   7.0s\n",
      "[CV] END ....criterion=entropy, max_depth=5, splitter=random; total time=   3.9s\n",
      "[CV] END ....criterion=entropy, max_depth=5, splitter=random; total time=   4.3s\n",
      "[CV] END ....criterion=entropy, max_depth=5, splitter=random; total time=   4.0s\n",
      "[CV] END ....criterion=entropy, max_depth=5, splitter=random; total time=   3.7s\n",
      "[CV] END ....criterion=entropy, max_depth=5, splitter=random; total time=   3.8s\n",
      "[CV] END .....criterion=entropy, max_depth=10, splitter=best; total time=  10.7s\n",
      "[CV] END .....criterion=entropy, max_depth=10, splitter=best; total time=  10.8s\n",
      "[CV] END .....criterion=entropy, max_depth=10, splitter=best; total time=  11.2s\n",
      "[CV] END .....criterion=entropy, max_depth=10, splitter=best; total time=  10.9s\n",
      "[CV] END .....criterion=entropy, max_depth=10, splitter=best; total time=  11.0s\n",
      "[CV] END ...criterion=entropy, max_depth=10, splitter=random; total time=   5.9s\n",
      "[CV] END ...criterion=entropy, max_depth=10, splitter=random; total time=   6.2s\n",
      "[CV] END ...criterion=entropy, max_depth=10, splitter=random; total time=   5.9s\n",
      "[CV] END ...criterion=entropy, max_depth=10, splitter=random; total time=   6.0s\n",
      "[CV] END ...criterion=entropy, max_depth=10, splitter=random; total time=   6.1s\n",
      "[CV] END .....criterion=entropy, max_depth=15, splitter=best; total time=  14.2s\n",
      "[CV] END .....criterion=entropy, max_depth=15, splitter=best; total time=  13.9s\n",
      "[CV] END .....criterion=entropy, max_depth=15, splitter=best; total time=  14.2s\n",
      "[CV] END .....criterion=entropy, max_depth=15, splitter=best; total time=  14.1s\n",
      "[CV] END .....criterion=entropy, max_depth=15, splitter=best; total time=  14.0s\n",
      "[CV] END ...criterion=entropy, max_depth=15, splitter=random; total time=   7.0s\n",
      "[CV] END ...criterion=entropy, max_depth=15, splitter=random; total time=   6.8s\n",
      "[CV] END ...criterion=entropy, max_depth=15, splitter=random; total time=   7.2s\n",
      "[CV] END ...criterion=entropy, max_depth=15, splitter=random; total time=   7.5s\n",
      "[CV] END ...criterion=entropy, max_depth=15, splitter=random; total time=   7.4s\n",
      "[CV] END .....criterion=entropy, max_depth=20, splitter=best; total time=  17.0s\n",
      "[CV] END .....criterion=entropy, max_depth=20, splitter=best; total time=  17.1s\n",
      "[CV] END .....criterion=entropy, max_depth=20, splitter=best; total time=  16.0s\n",
      "[CV] END .....criterion=entropy, max_depth=20, splitter=best; total time=  16.0s\n",
      "[CV] END .....criterion=entropy, max_depth=20, splitter=best; total time=  16.2s\n",
      "[CV] END ...criterion=entropy, max_depth=20, splitter=random; total time=   7.4s\n",
      "[CV] END ...criterion=entropy, max_depth=20, splitter=random; total time=   7.8s\n",
      "[CV] END ...criterion=entropy, max_depth=20, splitter=random; total time=   7.3s\n",
      "[CV] END ...criterion=entropy, max_depth=20, splitter=random; total time=   8.1s\n",
      "[CV] END ...criterion=entropy, max_depth=20, splitter=random; total time=   7.9s\n",
      "[CV] END .....criterion=entropy, max_depth=25, splitter=best; total time=  18.1s\n",
      "[CV] END .....criterion=entropy, max_depth=25, splitter=best; total time=  17.7s\n",
      "[CV] END .....criterion=entropy, max_depth=25, splitter=best; total time=  17.9s\n",
      "[CV] END .....criterion=entropy, max_depth=25, splitter=best; total time=  18.1s\n",
      "[CV] END .....criterion=entropy, max_depth=25, splitter=best; total time=  18.2s\n",
      "[CV] END ...criterion=entropy, max_depth=25, splitter=random; total time=   9.0s\n",
      "[CV] END ...criterion=entropy, max_depth=25, splitter=random; total time=   8.5s\n",
      "[CV] END ...criterion=entropy, max_depth=25, splitter=random; total time=   8.2s\n",
      "[CV] END ...criterion=entropy, max_depth=25, splitter=random; total time=   8.3s\n",
      "[CV] END ...criterion=entropy, max_depth=25, splitter=random; total time=   8.4s\n"
     ]
    },
    {
     "data": {
      "text/plain": [
       "GridSearchCV(estimator=DecisionTreeClassifier(class_weight='balanced'),\n",
       "             param_grid={'criterion': ['gini', 'entropy'],\n",
       "                         'max_depth': [5, 10, 15, 20, 25],\n",
       "                         'splitter': ['best', 'random']},\n",
       "             scoring='recall', verbose=2)"
      ]
     },
     "execution_count": 51,
     "metadata": {},
     "output_type": "execute_result"
    }
   ],
   "source": [
    "model = tree.DecisionTreeClassifier(class_weight=\"balanced\")\n",
    "clf = GridSearchCV(model, parameters, scoring='recall', verbose=2)\n",
    "clf.fit(X_train, y_train)"
   ]
  },
  {
   "cell_type": "code",
   "execution_count": null,
   "id": "c375d585",
   "metadata": {
    "colab": {
     "base_uri": "https://localhost:8080/"
    },
    "id": "c375d585",
    "outputId": "07bce60f-6072-42b4-a09a-02e88de39dc2"
   },
   "outputs": [
    {
     "name": "stdout",
     "output_type": "stream",
     "text": [
      "              precision    recall  f1-score   support\n",
      "\n",
      "           0       0.95      0.58      0.72    109268\n",
      "           1       0.29      0.83      0.43     22220\n",
      "\n",
      "    accuracy                           0.63    131488\n",
      "   macro avg       0.62      0.71      0.58    131488\n",
      "weighted avg       0.83      0.63      0.67    131488\n",
      "\n"
     ]
    }
   ],
   "source": [
    "y_true, y_pred = y_test, clf.predict(X_test)\n",
    "print(classification_report(y_true, y_pred))"
   ]
  }
 ],
 "metadata": {
  "colab": {
   "provenance": []
  },
  "kernelspec": {
   "display_name": "Python 3 (ipykernel)",
   "language": "python",
   "name": "python3"
  },
  "language_info": {
   "codemirror_mode": {
    "name": "ipython",
    "version": 3
   },
   "file_extension": ".py",
   "mimetype": "text/x-python",
   "name": "python",
   "nbconvert_exporter": "python",
   "pygments_lexer": "ipython3",
   "version": "3.10.6"
  }
 },
 "nbformat": 4,
 "nbformat_minor": 5
}
